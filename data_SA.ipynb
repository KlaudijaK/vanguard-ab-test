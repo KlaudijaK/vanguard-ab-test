{
 "cells": [
  {
   "cell_type": "code",
   "execution_count": 1,
   "id": "fe275bb1",
   "metadata": {},
   "outputs": [],
   "source": [
    "import pandas as pd"
   ]
  },
  {
   "cell_type": "code",
   "execution_count": 2,
   "id": "32cd8f96",
   "metadata": {},
   "outputs": [
    {
     "data": {
      "text/html": [
       "<div>\n",
       "<style scoped>\n",
       "    .dataframe tbody tr th:only-of-type {\n",
       "        vertical-align: middle;\n",
       "    }\n",
       "\n",
       "    .dataframe tbody tr th {\n",
       "        vertical-align: top;\n",
       "    }\n",
       "\n",
       "    .dataframe thead th {\n",
       "        text-align: right;\n",
       "    }\n",
       "</style>\n",
       "<table border=\"1\" class=\"dataframe\">\n",
       "  <thead>\n",
       "    <tr style=\"text-align: right;\">\n",
       "      <th></th>\n",
       "      <th>client_id</th>\n",
       "      <th>clnt_tenure_yr</th>\n",
       "      <th>clnt_tenure_mnth</th>\n",
       "      <th>clnt_age</th>\n",
       "      <th>gendr</th>\n",
       "      <th>num_accts</th>\n",
       "      <th>bal</th>\n",
       "      <th>calls_6_mnth</th>\n",
       "      <th>logons_6_mnth</th>\n",
       "    </tr>\n",
       "  </thead>\n",
       "  <tbody>\n",
       "    <tr>\n",
       "      <th>0</th>\n",
       "      <td>836976</td>\n",
       "      <td>6.0</td>\n",
       "      <td>73.0</td>\n",
       "      <td>60.5</td>\n",
       "      <td>U</td>\n",
       "      <td>2.0</td>\n",
       "      <td>45105.30</td>\n",
       "      <td>6.0</td>\n",
       "      <td>9.0</td>\n",
       "    </tr>\n",
       "    <tr>\n",
       "      <th>1</th>\n",
       "      <td>2304905</td>\n",
       "      <td>7.0</td>\n",
       "      <td>94.0</td>\n",
       "      <td>58.0</td>\n",
       "      <td>U</td>\n",
       "      <td>2.0</td>\n",
       "      <td>110860.30</td>\n",
       "      <td>6.0</td>\n",
       "      <td>9.0</td>\n",
       "    </tr>\n",
       "    <tr>\n",
       "      <th>2</th>\n",
       "      <td>1439522</td>\n",
       "      <td>5.0</td>\n",
       "      <td>64.0</td>\n",
       "      <td>32.0</td>\n",
       "      <td>U</td>\n",
       "      <td>2.0</td>\n",
       "      <td>52467.79</td>\n",
       "      <td>6.0</td>\n",
       "      <td>9.0</td>\n",
       "    </tr>\n",
       "    <tr>\n",
       "      <th>3</th>\n",
       "      <td>1562045</td>\n",
       "      <td>16.0</td>\n",
       "      <td>198.0</td>\n",
       "      <td>49.0</td>\n",
       "      <td>M</td>\n",
       "      <td>2.0</td>\n",
       "      <td>67454.65</td>\n",
       "      <td>3.0</td>\n",
       "      <td>6.0</td>\n",
       "    </tr>\n",
       "    <tr>\n",
       "      <th>4</th>\n",
       "      <td>5126305</td>\n",
       "      <td>12.0</td>\n",
       "      <td>145.0</td>\n",
       "      <td>33.0</td>\n",
       "      <td>F</td>\n",
       "      <td>2.0</td>\n",
       "      <td>103671.75</td>\n",
       "      <td>0.0</td>\n",
       "      <td>3.0</td>\n",
       "    </tr>\n",
       "    <tr>\n",
       "      <th>...</th>\n",
       "      <td>...</td>\n",
       "      <td>...</td>\n",
       "      <td>...</td>\n",
       "      <td>...</td>\n",
       "      <td>...</td>\n",
       "      <td>...</td>\n",
       "      <td>...</td>\n",
       "      <td>...</td>\n",
       "      <td>...</td>\n",
       "    </tr>\n",
       "    <tr>\n",
       "      <th>70604</th>\n",
       "      <td>7993686</td>\n",
       "      <td>4.0</td>\n",
       "      <td>56.0</td>\n",
       "      <td>38.5</td>\n",
       "      <td>U</td>\n",
       "      <td>3.0</td>\n",
       "      <td>1411062.68</td>\n",
       "      <td>5.0</td>\n",
       "      <td>5.0</td>\n",
       "    </tr>\n",
       "    <tr>\n",
       "      <th>70605</th>\n",
       "      <td>8981690</td>\n",
       "      <td>12.0</td>\n",
       "      <td>148.0</td>\n",
       "      <td>31.0</td>\n",
       "      <td>M</td>\n",
       "      <td>2.0</td>\n",
       "      <td>101867.07</td>\n",
       "      <td>6.0</td>\n",
       "      <td>6.0</td>\n",
       "    </tr>\n",
       "    <tr>\n",
       "      <th>70606</th>\n",
       "      <td>333913</td>\n",
       "      <td>16.0</td>\n",
       "      <td>198.0</td>\n",
       "      <td>61.5</td>\n",
       "      <td>F</td>\n",
       "      <td>2.0</td>\n",
       "      <td>40745.00</td>\n",
       "      <td>3.0</td>\n",
       "      <td>3.0</td>\n",
       "    </tr>\n",
       "    <tr>\n",
       "      <th>70607</th>\n",
       "      <td>1573142</td>\n",
       "      <td>21.0</td>\n",
       "      <td>255.0</td>\n",
       "      <td>68.0</td>\n",
       "      <td>M</td>\n",
       "      <td>3.0</td>\n",
       "      <td>475114.69</td>\n",
       "      <td>4.0</td>\n",
       "      <td>4.0</td>\n",
       "    </tr>\n",
       "    <tr>\n",
       "      <th>70608</th>\n",
       "      <td>5602139</td>\n",
       "      <td>21.0</td>\n",
       "      <td>254.0</td>\n",
       "      <td>59.5</td>\n",
       "      <td>F</td>\n",
       "      <td>3.0</td>\n",
       "      <td>157498.73</td>\n",
       "      <td>7.0</td>\n",
       "      <td>7.0</td>\n",
       "    </tr>\n",
       "  </tbody>\n",
       "</table>\n",
       "<p>70609 rows × 9 columns</p>\n",
       "</div>"
      ],
      "text/plain": [
       "       client_id  clnt_tenure_yr  clnt_tenure_mnth  clnt_age gendr  num_accts  \\\n",
       "0         836976             6.0              73.0      60.5     U        2.0   \n",
       "1        2304905             7.0              94.0      58.0     U        2.0   \n",
       "2        1439522             5.0              64.0      32.0     U        2.0   \n",
       "3        1562045            16.0             198.0      49.0     M        2.0   \n",
       "4        5126305            12.0             145.0      33.0     F        2.0   \n",
       "...          ...             ...               ...       ...   ...        ...   \n",
       "70604    7993686             4.0              56.0      38.5     U        3.0   \n",
       "70605    8981690            12.0             148.0      31.0     M        2.0   \n",
       "70606     333913            16.0             198.0      61.5     F        2.0   \n",
       "70607    1573142            21.0             255.0      68.0     M        3.0   \n",
       "70608    5602139            21.0             254.0      59.5     F        3.0   \n",
       "\n",
       "              bal  calls_6_mnth  logons_6_mnth  \n",
       "0        45105.30           6.0            9.0  \n",
       "1       110860.30           6.0            9.0  \n",
       "2        52467.79           6.0            9.0  \n",
       "3        67454.65           3.0            6.0  \n",
       "4       103671.75           0.0            3.0  \n",
       "...           ...           ...            ...  \n",
       "70604  1411062.68           5.0            5.0  \n",
       "70605   101867.07           6.0            6.0  \n",
       "70606    40745.00           3.0            3.0  \n",
       "70607   475114.69           4.0            4.0  \n",
       "70608   157498.73           7.0            7.0  \n",
       "\n",
       "[70609 rows x 9 columns]"
      ]
     },
     "execution_count": 2,
     "metadata": {},
     "output_type": "execute_result"
    }
   ],
   "source": [
    "demo = pd.read_csv('df_final_demo.txt')\n",
    "demo"
   ]
  },
  {
   "cell_type": "code",
   "execution_count": 3,
   "id": "28657475",
   "metadata": {},
   "outputs": [
    {
     "data": {
      "text/plain": [
       "0"
      ]
     },
     "execution_count": 3,
     "metadata": {},
     "output_type": "execute_result"
    }
   ],
   "source": [
    "demo_duplicates = demo.duplicated()\n",
    "demo_duplicates.sum()"
   ]
  },
  {
   "cell_type": "code",
   "execution_count": 4,
   "id": "525b21c6",
   "metadata": {},
   "outputs": [
    {
     "name": "stdout",
     "output_type": "stream",
     "text": [
      "client_id            0\n",
      "clnt_tenure_yr      14\n",
      "clnt_tenure_mnth    14\n",
      "clnt_age            15\n",
      "gendr               14\n",
      "num_accts           14\n",
      "bal                 14\n",
      "calls_6_mnth        14\n",
      "logons_6_mnth       14\n",
      "dtype: int64\n"
     ]
    }
   ],
   "source": [
    "print(demo.isnull().sum())"
   ]
  },
  {
   "cell_type": "code",
   "execution_count": 5,
   "id": "2592e8c6",
   "metadata": {},
   "outputs": [
    {
     "name": "stdout",
     "output_type": "stream",
     "text": [
      "Index(['client_id', 'clnt_tenure_yr', 'clnt_tenure_mnth', 'clnt_age', 'gendr',\n",
      "       'num_accts', 'bal', 'calls_6_mnth', 'logons_6_mnth'],\n",
      "      dtype='object')\n"
     ]
    }
   ],
   "source": [
    "print(demo.columns)"
   ]
  },
  {
   "cell_type": "code",
   "execution_count": 6,
   "id": "d9c8aad5",
   "metadata": {},
   "outputs": [
    {
     "data": {
      "text/html": [
       "<div>\n",
       "<style scoped>\n",
       "    .dataframe tbody tr th:only-of-type {\n",
       "        vertical-align: middle;\n",
       "    }\n",
       "\n",
       "    .dataframe tbody tr th {\n",
       "        vertical-align: top;\n",
       "    }\n",
       "\n",
       "    .dataframe thead th {\n",
       "        text-align: right;\n",
       "    }\n",
       "</style>\n",
       "<table border=\"1\" class=\"dataframe\">\n",
       "  <thead>\n",
       "    <tr style=\"text-align: right;\">\n",
       "      <th></th>\n",
       "      <th>client_id</th>\n",
       "      <th>tenure_year</th>\n",
       "      <th>tenure_month</th>\n",
       "      <th>client_age</th>\n",
       "      <th>gender</th>\n",
       "      <th>num_accts</th>\n",
       "      <th>total_balance</th>\n",
       "      <th>calls_6_mnth</th>\n",
       "      <th>logons_6_mnth</th>\n",
       "    </tr>\n",
       "  </thead>\n",
       "  <tbody>\n",
       "    <tr>\n",
       "      <th>0</th>\n",
       "      <td>836976</td>\n",
       "      <td>6.0</td>\n",
       "      <td>73.0</td>\n",
       "      <td>60.5</td>\n",
       "      <td>U</td>\n",
       "      <td>2.0</td>\n",
       "      <td>45105.30</td>\n",
       "      <td>6.0</td>\n",
       "      <td>9.0</td>\n",
       "    </tr>\n",
       "    <tr>\n",
       "      <th>1</th>\n",
       "      <td>2304905</td>\n",
       "      <td>7.0</td>\n",
       "      <td>94.0</td>\n",
       "      <td>58.0</td>\n",
       "      <td>U</td>\n",
       "      <td>2.0</td>\n",
       "      <td>110860.30</td>\n",
       "      <td>6.0</td>\n",
       "      <td>9.0</td>\n",
       "    </tr>\n",
       "    <tr>\n",
       "      <th>2</th>\n",
       "      <td>1439522</td>\n",
       "      <td>5.0</td>\n",
       "      <td>64.0</td>\n",
       "      <td>32.0</td>\n",
       "      <td>U</td>\n",
       "      <td>2.0</td>\n",
       "      <td>52467.79</td>\n",
       "      <td>6.0</td>\n",
       "      <td>9.0</td>\n",
       "    </tr>\n",
       "    <tr>\n",
       "      <th>3</th>\n",
       "      <td>1562045</td>\n",
       "      <td>16.0</td>\n",
       "      <td>198.0</td>\n",
       "      <td>49.0</td>\n",
       "      <td>M</td>\n",
       "      <td>2.0</td>\n",
       "      <td>67454.65</td>\n",
       "      <td>3.0</td>\n",
       "      <td>6.0</td>\n",
       "    </tr>\n",
       "    <tr>\n",
       "      <th>4</th>\n",
       "      <td>5126305</td>\n",
       "      <td>12.0</td>\n",
       "      <td>145.0</td>\n",
       "      <td>33.0</td>\n",
       "      <td>F</td>\n",
       "      <td>2.0</td>\n",
       "      <td>103671.75</td>\n",
       "      <td>0.0</td>\n",
       "      <td>3.0</td>\n",
       "    </tr>\n",
       "    <tr>\n",
       "      <th>...</th>\n",
       "      <td>...</td>\n",
       "      <td>...</td>\n",
       "      <td>...</td>\n",
       "      <td>...</td>\n",
       "      <td>...</td>\n",
       "      <td>...</td>\n",
       "      <td>...</td>\n",
       "      <td>...</td>\n",
       "      <td>...</td>\n",
       "    </tr>\n",
       "    <tr>\n",
       "      <th>70604</th>\n",
       "      <td>7993686</td>\n",
       "      <td>4.0</td>\n",
       "      <td>56.0</td>\n",
       "      <td>38.5</td>\n",
       "      <td>U</td>\n",
       "      <td>3.0</td>\n",
       "      <td>1411062.68</td>\n",
       "      <td>5.0</td>\n",
       "      <td>5.0</td>\n",
       "    </tr>\n",
       "    <tr>\n",
       "      <th>70605</th>\n",
       "      <td>8981690</td>\n",
       "      <td>12.0</td>\n",
       "      <td>148.0</td>\n",
       "      <td>31.0</td>\n",
       "      <td>M</td>\n",
       "      <td>2.0</td>\n",
       "      <td>101867.07</td>\n",
       "      <td>6.0</td>\n",
       "      <td>6.0</td>\n",
       "    </tr>\n",
       "    <tr>\n",
       "      <th>70606</th>\n",
       "      <td>333913</td>\n",
       "      <td>16.0</td>\n",
       "      <td>198.0</td>\n",
       "      <td>61.5</td>\n",
       "      <td>F</td>\n",
       "      <td>2.0</td>\n",
       "      <td>40745.00</td>\n",
       "      <td>3.0</td>\n",
       "      <td>3.0</td>\n",
       "    </tr>\n",
       "    <tr>\n",
       "      <th>70607</th>\n",
       "      <td>1573142</td>\n",
       "      <td>21.0</td>\n",
       "      <td>255.0</td>\n",
       "      <td>68.0</td>\n",
       "      <td>M</td>\n",
       "      <td>3.0</td>\n",
       "      <td>475114.69</td>\n",
       "      <td>4.0</td>\n",
       "      <td>4.0</td>\n",
       "    </tr>\n",
       "    <tr>\n",
       "      <th>70608</th>\n",
       "      <td>5602139</td>\n",
       "      <td>21.0</td>\n",
       "      <td>254.0</td>\n",
       "      <td>59.5</td>\n",
       "      <td>F</td>\n",
       "      <td>3.0</td>\n",
       "      <td>157498.73</td>\n",
       "      <td>7.0</td>\n",
       "      <td>7.0</td>\n",
       "    </tr>\n",
       "  </tbody>\n",
       "</table>\n",
       "<p>70609 rows × 9 columns</p>\n",
       "</div>"
      ],
      "text/plain": [
       "       client_id  tenure_year  tenure_month  client_age gender  num_accts  \\\n",
       "0         836976          6.0          73.0        60.5      U        2.0   \n",
       "1        2304905          7.0          94.0        58.0      U        2.0   \n",
       "2        1439522          5.0          64.0        32.0      U        2.0   \n",
       "3        1562045         16.0         198.0        49.0      M        2.0   \n",
       "4        5126305         12.0         145.0        33.0      F        2.0   \n",
       "...          ...          ...           ...         ...    ...        ...   \n",
       "70604    7993686          4.0          56.0        38.5      U        3.0   \n",
       "70605    8981690         12.0         148.0        31.0      M        2.0   \n",
       "70606     333913         16.0         198.0        61.5      F        2.0   \n",
       "70607    1573142         21.0         255.0        68.0      M        3.0   \n",
       "70608    5602139         21.0         254.0        59.5      F        3.0   \n",
       "\n",
       "       total_balance  calls_6_mnth  logons_6_mnth  \n",
       "0           45105.30           6.0            9.0  \n",
       "1          110860.30           6.0            9.0  \n",
       "2           52467.79           6.0            9.0  \n",
       "3           67454.65           3.0            6.0  \n",
       "4          103671.75           0.0            3.0  \n",
       "...              ...           ...            ...  \n",
       "70604     1411062.68           5.0            5.0  \n",
       "70605      101867.07           6.0            6.0  \n",
       "70606       40745.00           3.0            3.0  \n",
       "70607      475114.69           4.0            4.0  \n",
       "70608      157498.73           7.0            7.0  \n",
       "\n",
       "[70609 rows x 9 columns]"
      ]
     },
     "execution_count": 6,
     "metadata": {},
     "output_type": "execute_result"
    }
   ],
   "source": [
    "demo = demo.rename(columns={'clnt_tenure_yr': 'tenure_year', 'clnt_tenure_mnth': 'tenure_month', 'clnt_age':'client_age', 'gendr':'gender','bal':'total_balance'})\n",
    "demo"
   ]
  },
  {
   "cell_type": "code",
   "execution_count": 7,
   "id": "0ccdd750",
   "metadata": {},
   "outputs": [
    {
     "data": {
      "text/plain": [
       "array(['U', 'M', 'F', nan, 'X'], dtype=object)"
      ]
     },
     "execution_count": 7,
     "metadata": {},
     "output_type": "execute_result"
    }
   ],
   "source": [
    "demo['gender'].unique()\n",
    "\n",
    "# make a dict"
   ]
  },
  {
   "cell_type": "code",
   "execution_count": 8,
   "id": "49288f0c",
   "metadata": {},
   "outputs": [
    {
     "name": "stdout",
     "output_type": "stream",
     "text": [
      "\n",
      "DataFrame after cleaning 'gender' column:\n",
      "       client_id  tenure_year  tenure_month  client_age   gender  num_accts  \\\n",
      "0         836976          6.0          73.0        60.5  unknown        2.0   \n",
      "1        2304905          7.0          94.0        58.0  unknown        2.0   \n",
      "2        1439522          5.0          64.0        32.0  unknown        2.0   \n",
      "3        1562045         16.0         198.0        49.0        M        2.0   \n",
      "4        5126305         12.0         145.0        33.0        F        2.0   \n",
      "...          ...          ...           ...         ...      ...        ...   \n",
      "70604    7993686          4.0          56.0        38.5  unknown        3.0   \n",
      "70605    8981690         12.0         148.0        31.0        M        2.0   \n",
      "70606     333913         16.0         198.0        61.5        F        2.0   \n",
      "70607    1573142         21.0         255.0        68.0        M        3.0   \n",
      "70608    5602139         21.0         254.0        59.5        F        3.0   \n",
      "\n",
      "       total_balance  calls_6_mnth  logons_6_mnth  \n",
      "0           45105.30           6.0            9.0  \n",
      "1          110860.30           6.0            9.0  \n",
      "2           52467.79           6.0            9.0  \n",
      "3           67454.65           3.0            6.0  \n",
      "4          103671.75           0.0            3.0  \n",
      "...              ...           ...            ...  \n",
      "70604     1411062.68           5.0            5.0  \n",
      "70605      101867.07           6.0            6.0  \n",
      "70606       40745.00           3.0            3.0  \n",
      "70607      475114.69           4.0            4.0  \n",
      "70608      157498.73           7.0            7.0  \n",
      "\n",
      "[70609 rows x 9 columns]\n"
     ]
    }
   ],
   "source": [
    "demo['gender'] = demo['gender'].replace(['X', 'U', 'nan'], 'unknown')\n",
    "demo['gender'] = demo['gender'].fillna('unknown')\n",
    "\n",
    "# Display the cleaned DataFrame\n",
    "print(\"\\nDataFrame after cleaning 'gender' column:\")\n",
    "print(demo)\n"
   ]
  },
  {
   "cell_type": "code",
   "execution_count": 9,
   "id": "406719a0",
   "metadata": {},
   "outputs": [
    {
     "name": "stdout",
     "output_type": "stream",
     "text": [
      "\n",
      "Count of 'F' in 'gender' column: 22746\n",
      "Count of 'M' in 'gender' column: 23724\n"
     ]
    }
   ],
   "source": [
    "gender_counts = demo['gender'].value_counts()\n",
    "\n",
    "# Get counts for 'F' and 'M'\n",
    "count_f = gender_counts.get('F', 0)\n",
    "count_m = gender_counts.get('M', 0)\n",
    "\n",
    "# Display the counts\n",
    "print(f\"\\nCount of 'F' in 'gender' column: {count_f}\")\n",
    "print(f\"Count of 'M' in 'gender' column: {count_m}\")"
   ]
  },
  {
   "cell_type": "code",
   "execution_count": 10,
   "id": "d4cbfa8a",
   "metadata": {},
   "outputs": [
    {
     "name": "stdout",
     "output_type": "stream",
     "text": [
      "\n",
      "Count of 'unknown' in 'gender' column: 24139\n"
     ]
    }
   ],
   "source": [
    "gender_counts = demo['gender'].value_counts()\n",
    "count_unknown = gender_counts.get('unknown', 0)\n",
    "\n",
    "# Alternatively, count using boolean indexing\n",
    "count_unknown_alternative = (demo['gender'] == 'unknown').sum()\n",
    "\n",
    "# Display the counts\n",
    "print(f\"\\nCount of 'unknown' in 'gender' column: {count_unknown}\")"
   ]
  },
  {
   "cell_type": "code",
   "execution_count": 11,
   "id": "edb331c3",
   "metadata": {},
   "outputs": [
    {
     "name": "stdout",
     "output_type": "stream",
     "text": [
      "\n",
      "DataFrame after rounding 'client_age':\n",
      "   client_age\n",
      "0          60\n",
      "1          58\n",
      "2          32\n",
      "3          49\n",
      "4          33\n"
     ]
    }
   ],
   "source": [
    "demo['client_age'] = demo['client_age'].round(0).fillna(-1).astype(int)\n",
    "\n",
    "# Display the DataFrame after rounding\n",
    "print(\"\\nDataFrame after rounding 'client_age':\")\n",
    "print(demo[['client_age']].head())"
   ]
  },
  {
   "cell_type": "code",
   "execution_count": 12,
   "id": "65c92cb8",
   "metadata": {},
   "outputs": [
    {
     "name": "stdout",
     "output_type": "stream",
     "text": [
      "\n",
      "DataFrame after cleaning 'tenure_year', 'tenure_month', 'calls_6_mnth', 'logons_6_mnth', 'num_accts', 'total_balance' :\n",
      "       client_id  tenure_year  tenure_month  client_age   gender  num_accts  \\\n",
      "0         836976            6            73          60  unknown          2   \n",
      "1        2304905            7            94          58  unknown          2   \n",
      "2        1439522            5            64          32  unknown          2   \n",
      "3        1562045           16           198          49        M          2   \n",
      "4        5126305           12           145          33        F          2   \n",
      "...          ...          ...           ...         ...      ...        ...   \n",
      "70604    7993686            4            56          38  unknown          3   \n",
      "70605    8981690           12           148          31        M          2   \n",
      "70606     333913           16           198          62        F          2   \n",
      "70607    1573142           21           255          68        M          3   \n",
      "70608    5602139           21           254          60        F          3   \n",
      "\n",
      "       total_balance  calls_6_mnth  logons_6_mnth  \n",
      "0              45105             6              9  \n",
      "1             110860             6              9  \n",
      "2              52468             6              9  \n",
      "3              67455             3              6  \n",
      "4             103672             0              3  \n",
      "...              ...           ...            ...  \n",
      "70604        1411063             5              5  \n",
      "70605         101867             6              6  \n",
      "70606          40745             3              3  \n",
      "70607         475115             4              4  \n",
      "70608         157499             7              7  \n",
      "\n",
      "[70609 rows x 9 columns]\n"
     ]
    }
   ],
   "source": [
    "# Fill NaN values before converting to int\n",
    "cols_to_clean = ['tenure_year', 'tenure_month', 'calls_6_mnth', 'logons_6_mnth', 'num_accts', 'total_balance']\n",
    "demo[cols_to_clean] = demo[cols_to_clean].round(0).fillna(-1).astype(int)\n",
    "\n",
    "print(\"\\nDataFrame after cleaning 'tenure_year', 'tenure_month', 'calls_6_mnth', 'logons_6_mnth', 'num_accts', 'total_balance' :\")\n",
    "print(demo)"
   ]
  },
  {
   "cell_type": "code",
   "execution_count": 13,
   "id": "8210f00b",
   "metadata": {},
   "outputs": [
    {
     "data": {
      "text/plain": [
       "client_id        70609\n",
       "tenure_year         55\n",
       "tenure_month       483\n",
       "client_age          83\n",
       "gender               3\n",
       "num_accts            9\n",
       "total_balance    56924\n",
       "calls_6_mnth         9\n",
       "logons_6_mnth       10\n",
       "dtype: int64"
      ]
     },
     "execution_count": 13,
     "metadata": {},
     "output_type": "execute_result"
    }
   ],
   "source": [
    "demo.nunique()"
   ]
  },
  {
   "cell_type": "code",
   "execution_count": 14,
   "id": "2bed8b4c",
   "metadata": {},
   "outputs": [
    {
     "data": {
      "text/html": [
       "<div>\n",
       "<style scoped>\n",
       "    .dataframe tbody tr th:only-of-type {\n",
       "        vertical-align: middle;\n",
       "    }\n",
       "\n",
       "    .dataframe tbody tr th {\n",
       "        vertical-align: top;\n",
       "    }\n",
       "\n",
       "    .dataframe thead th {\n",
       "        text-align: right;\n",
       "    }\n",
       "</style>\n",
       "<table border=\"1\" class=\"dataframe\">\n",
       "  <thead>\n",
       "    <tr style=\"text-align: right;\">\n",
       "      <th></th>\n",
       "      <th>client_id</th>\n",
       "      <th>tenure_year</th>\n",
       "      <th>tenure_month</th>\n",
       "      <th>client_age</th>\n",
       "      <th>gender</th>\n",
       "      <th>num_accts</th>\n",
       "      <th>total_balance</th>\n",
       "      <th>calls_6_mnth</th>\n",
       "      <th>logons_6_mnth</th>\n",
       "    </tr>\n",
       "  </thead>\n",
       "  <tbody>\n",
       "    <tr>\n",
       "      <th>0</th>\n",
       "      <td>836976</td>\n",
       "      <td>6</td>\n",
       "      <td>73</td>\n",
       "      <td>60</td>\n",
       "      <td>unknown</td>\n",
       "      <td>2</td>\n",
       "      <td>45105</td>\n",
       "      <td>6</td>\n",
       "      <td>9</td>\n",
       "    </tr>\n",
       "    <tr>\n",
       "      <th>1</th>\n",
       "      <td>2304905</td>\n",
       "      <td>7</td>\n",
       "      <td>94</td>\n",
       "      <td>58</td>\n",
       "      <td>unknown</td>\n",
       "      <td>2</td>\n",
       "      <td>110860</td>\n",
       "      <td>6</td>\n",
       "      <td>9</td>\n",
       "    </tr>\n",
       "    <tr>\n",
       "      <th>2</th>\n",
       "      <td>1439522</td>\n",
       "      <td>5</td>\n",
       "      <td>64</td>\n",
       "      <td>32</td>\n",
       "      <td>unknown</td>\n",
       "      <td>2</td>\n",
       "      <td>52468</td>\n",
       "      <td>6</td>\n",
       "      <td>9</td>\n",
       "    </tr>\n",
       "    <tr>\n",
       "      <th>3</th>\n",
       "      <td>1562045</td>\n",
       "      <td>16</td>\n",
       "      <td>198</td>\n",
       "      <td>49</td>\n",
       "      <td>M</td>\n",
       "      <td>2</td>\n",
       "      <td>67455</td>\n",
       "      <td>3</td>\n",
       "      <td>6</td>\n",
       "    </tr>\n",
       "    <tr>\n",
       "      <th>4</th>\n",
       "      <td>5126305</td>\n",
       "      <td>12</td>\n",
       "      <td>145</td>\n",
       "      <td>33</td>\n",
       "      <td>F</td>\n",
       "      <td>2</td>\n",
       "      <td>103672</td>\n",
       "      <td>0</td>\n",
       "      <td>3</td>\n",
       "    </tr>\n",
       "  </tbody>\n",
       "</table>\n",
       "</div>"
      ],
      "text/plain": [
       "   client_id  tenure_year  tenure_month  client_age   gender  num_accts  \\\n",
       "0     836976            6            73          60  unknown          2   \n",
       "1    2304905            7            94          58  unknown          2   \n",
       "2    1439522            5            64          32  unknown          2   \n",
       "3    1562045           16           198          49        M          2   \n",
       "4    5126305           12           145          33        F          2   \n",
       "\n",
       "   total_balance  calls_6_mnth  logons_6_mnth  \n",
       "0          45105             6              9  \n",
       "1         110860             6              9  \n",
       "2          52468             6              9  \n",
       "3          67455             3              6  \n",
       "4         103672             0              3  "
      ]
     },
     "execution_count": 14,
     "metadata": {},
     "output_type": "execute_result"
    }
   ],
   "source": [
    "demo.head()"
   ]
  },
  {
   "cell_type": "code",
   "execution_count": 23,
   "id": "95153726",
   "metadata": {},
   "outputs": [
    {
     "data": {
      "text/plain": [
       "gender\n",
       "unknown    24139\n",
       "M          23724\n",
       "F          22746\n",
       "Name: count, dtype: int64"
      ]
     },
     "execution_count": 23,
     "metadata": {},
     "output_type": "execute_result"
    }
   ],
   "source": [
    "demo[\"gender\"].value_counts()"
   ]
  },
  {
   "cell_type": "code",
   "execution_count": 30,
   "id": "379ba2af",
   "metadata": {},
   "outputs": [
    {
     "data": {
      "text/plain": [
       "tenure_year\n",
       " 62       1\n",
       " 54       1\n",
       " 45       1\n",
       " 41       1\n",
       " 52       2\n",
       " 44       3\n",
       " 49       4\n",
       " 51       5\n",
       " 46       5\n",
       " 43       6\n",
       " 47       6\n",
       " 42       6\n",
       " 50       8\n",
       " 39       9\n",
       " 55       9\n",
       " 40       9\n",
       "-1       14\n",
       " 48      16\n",
       " 38      33\n",
       " 37      35\n",
       " 36      36\n",
       " 2       81\n",
       " 35     102\n",
       " 31     166\n",
       " 34     175\n",
       " 32     191\n",
       " 33     206\n",
       " 30     303\n",
       " 29     309\n",
       " 3      449\n",
       " 25     484\n",
       " 28     507\n",
       " 27     632\n",
       " 26     660\n",
       " 24     846\n",
       " 19    1153\n",
       " 18    1206\n",
       " 23    1279\n",
       " 17    1373\n",
       " 22    1492\n",
       " 20    1580\n",
       " 21    2257\n",
       " 16    2714\n",
       " 10    2775\n",
       " 11    2920\n",
       " 9     3357\n",
       " 13    3607\n",
       " 12    3631\n",
       " 14    3646\n",
       " 8     4045\n",
       " 15    4564\n",
       " 4     4687\n",
       " 7     4955\n",
       " 5     6955\n",
       " 6     7092\n",
       "Name: count, dtype: int64"
      ]
     },
     "execution_count": 30,
     "metadata": {},
     "output_type": "execute_result"
    }
   ],
   "source": [
    "demo['tenure_year'].value_counts().sort_values(ascending=True)"
   ]
  },
  {
   "cell_type": "code",
   "execution_count": 31,
   "id": "d38f40fd",
   "metadata": {},
   "outputs": [
    {
     "data": {
      "text/plain": [
       "12.05036185188857"
      ]
     },
     "execution_count": 31,
     "metadata": {},
     "output_type": "execute_result"
    }
   ],
   "source": [
    "mean_tnr_year = demo[\"tenure_year\"].mean()\n",
    "mean_tnr_year"
   ]
  },
  {
   "cell_type": "code",
   "execution_count": 32,
   "id": "7f174a62",
   "metadata": {},
   "outputs": [
    {
     "data": {
      "text/plain": [
       "11.0"
      ]
     },
     "execution_count": 32,
     "metadata": {},
     "output_type": "execute_result"
    }
   ],
   "source": [
    "median_tnr_year = demo[\"tenure_year\"].median()\n",
    "median_tnr_year"
   ]
  },
  {
   "cell_type": "code",
   "execution_count": 38,
   "id": "635c41dc",
   "metadata": {},
   "outputs": [
    {
     "data": {
      "text/html": [
       "<div>\n",
       "<style scoped>\n",
       "    .dataframe tbody tr th:only-of-type {\n",
       "        vertical-align: middle;\n",
       "    }\n",
       "\n",
       "    .dataframe tbody tr th {\n",
       "        vertical-align: top;\n",
       "    }\n",
       "\n",
       "    .dataframe thead th {\n",
       "        text-align: right;\n",
       "    }\n",
       "</style>\n",
       "<table border=\"1\" class=\"dataframe\">\n",
       "  <thead>\n",
       "    <tr style=\"text-align: right;\">\n",
       "      <th></th>\n",
       "      <th>client_id</th>\n",
       "      <th>tenure_year</th>\n",
       "      <th>tenure_month</th>\n",
       "      <th>client_age</th>\n",
       "      <th>gender</th>\n",
       "      <th>num_accts</th>\n",
       "      <th>total_balance</th>\n",
       "      <th>calls_6_mnth</th>\n",
       "      <th>logons_6_mnth</th>\n",
       "      <th>tenure_total_months</th>\n",
       "    </tr>\n",
       "  </thead>\n",
       "  <tbody>\n",
       "    <tr>\n",
       "      <th>0</th>\n",
       "      <td>836976</td>\n",
       "      <td>6</td>\n",
       "      <td>73</td>\n",
       "      <td>60</td>\n",
       "      <td>unknown</td>\n",
       "      <td>2</td>\n",
       "      <td>45105</td>\n",
       "      <td>6</td>\n",
       "      <td>9</td>\n",
       "      <td>145</td>\n",
       "    </tr>\n",
       "    <tr>\n",
       "      <th>1</th>\n",
       "      <td>2304905</td>\n",
       "      <td>7</td>\n",
       "      <td>94</td>\n",
       "      <td>58</td>\n",
       "      <td>unknown</td>\n",
       "      <td>2</td>\n",
       "      <td>110860</td>\n",
       "      <td>6</td>\n",
       "      <td>9</td>\n",
       "      <td>178</td>\n",
       "    </tr>\n",
       "    <tr>\n",
       "      <th>2</th>\n",
       "      <td>1439522</td>\n",
       "      <td>5</td>\n",
       "      <td>64</td>\n",
       "      <td>32</td>\n",
       "      <td>unknown</td>\n",
       "      <td>2</td>\n",
       "      <td>52468</td>\n",
       "      <td>6</td>\n",
       "      <td>9</td>\n",
       "      <td>124</td>\n",
       "    </tr>\n",
       "    <tr>\n",
       "      <th>3</th>\n",
       "      <td>1562045</td>\n",
       "      <td>16</td>\n",
       "      <td>198</td>\n",
       "      <td>49</td>\n",
       "      <td>M</td>\n",
       "      <td>2</td>\n",
       "      <td>67455</td>\n",
       "      <td>3</td>\n",
       "      <td>6</td>\n",
       "      <td>390</td>\n",
       "    </tr>\n",
       "    <tr>\n",
       "      <th>4</th>\n",
       "      <td>5126305</td>\n",
       "      <td>12</td>\n",
       "      <td>145</td>\n",
       "      <td>33</td>\n",
       "      <td>F</td>\n",
       "      <td>2</td>\n",
       "      <td>103672</td>\n",
       "      <td>0</td>\n",
       "      <td>3</td>\n",
       "      <td>289</td>\n",
       "    </tr>\n",
       "  </tbody>\n",
       "</table>\n",
       "</div>"
      ],
      "text/plain": [
       "   client_id  tenure_year  tenure_month  client_age   gender  num_accts  \\\n",
       "0     836976            6            73          60  unknown          2   \n",
       "1    2304905            7            94          58  unknown          2   \n",
       "2    1439522            5            64          32  unknown          2   \n",
       "3    1562045           16           198          49        M          2   \n",
       "4    5126305           12           145          33        F          2   \n",
       "\n",
       "   total_balance  calls_6_mnth  logons_6_mnth  tenure_total_months  \n",
       "0          45105             6              9                  145  \n",
       "1         110860             6              9                  178  \n",
       "2          52468             6              9                  124  \n",
       "3          67455             3              6                  390  \n",
       "4         103672             0              3                  289  "
      ]
     },
     "execution_count": 38,
     "metadata": {},
     "output_type": "execute_result"
    }
   ],
   "source": [
    "# Create a longevity metric:\n",
    "\n",
    "demo['tenure_total_months'] = demo['tenure_year'] * 12 + demo['tenure_month']\n",
    "demo.head()\n"
   ]
  },
  {
   "cell_type": "code",
   "execution_count": 39,
   "id": "b387af82",
   "metadata": {},
   "outputs": [
    {
     "data": {
      "text/html": [
       "<div>\n",
       "<style scoped>\n",
       "    .dataframe tbody tr th:only-of-type {\n",
       "        vertical-align: middle;\n",
       "    }\n",
       "\n",
       "    .dataframe tbody tr th {\n",
       "        vertical-align: top;\n",
       "    }\n",
       "\n",
       "    .dataframe thead th {\n",
       "        text-align: right;\n",
       "    }\n",
       "</style>\n",
       "<table border=\"1\" class=\"dataframe\">\n",
       "  <thead>\n",
       "    <tr style=\"text-align: right;\">\n",
       "      <th></th>\n",
       "      <th>client_age</th>\n",
       "      <th>tenure_total_months</th>\n",
       "    </tr>\n",
       "  </thead>\n",
       "  <tbody>\n",
       "    <tr>\n",
       "      <th>client_age</th>\n",
       "      <td>1.000000</td>\n",
       "      <td>0.310211</td>\n",
       "    </tr>\n",
       "    <tr>\n",
       "      <th>tenure_total_months</th>\n",
       "      <td>0.310211</td>\n",
       "      <td>1.000000</td>\n",
       "    </tr>\n",
       "  </tbody>\n",
       "</table>\n",
       "</div>"
      ],
      "text/plain": [
       "                     client_age  tenure_total_months\n",
       "client_age             1.000000             0.310211\n",
       "tenure_total_months    0.310211             1.000000"
      ]
     },
     "execution_count": 39,
     "metadata": {},
     "output_type": "execute_result"
    }
   ],
   "source": [
    "# Simple analysis: correlation between age vs longevity\n",
    "\n",
    "demo[['client_age', 'tenure_total_months']].corr()\n"
   ]
  },
  {
   "cell_type": "code",
   "execution_count": 60,
   "id": "74517e71",
   "metadata": {},
   "outputs": [],
   "source": [
    "df_clean = demo[demo['tenure_total_months'] >= 0].copy()\n",
    "\n"
   ]
  },
  {
   "cell_type": "code",
   "execution_count": 61,
   "id": "b82be42f",
   "metadata": {},
   "outputs": [
    {
     "name": "stdout",
     "output_type": "stream",
     "text": [
      "count    70595.000000\n",
      "mean       295.294766\n",
      "std        164.507881\n",
      "min         57.000000\n",
      "25%        154.000000\n",
      "50%        268.000000\n",
      "75%        384.000000\n",
      "max       1493.000000\n",
      "Name: tenure_total_months, dtype: float64\n"
     ]
    }
   ],
   "source": [
    "print(df_clean['tenure_total_months'].describe())"
   ]
  },
  {
   "cell_type": "code",
   "execution_count": 62,
   "id": "f6e9a8bc",
   "metadata": {},
   "outputs": [
    {
     "data": {
      "text/html": [
       "<div>\n",
       "<style scoped>\n",
       "    .dataframe tbody tr th:only-of-type {\n",
       "        vertical-align: middle;\n",
       "    }\n",
       "\n",
       "    .dataframe tbody tr th {\n",
       "        vertical-align: top;\n",
       "    }\n",
       "\n",
       "    .dataframe thead th {\n",
       "        text-align: right;\n",
       "    }\n",
       "</style>\n",
       "<table border=\"1\" class=\"dataframe\">\n",
       "  <thead>\n",
       "    <tr style=\"text-align: right;\">\n",
       "      <th></th>\n",
       "      <th>client_id</th>\n",
       "      <th>tenure_year</th>\n",
       "      <th>tenure_month</th>\n",
       "      <th>client_age</th>\n",
       "      <th>gender</th>\n",
       "      <th>num_accts</th>\n",
       "      <th>total_balance</th>\n",
       "      <th>calls_6_mnth</th>\n",
       "      <th>logons_6_mnth</th>\n",
       "      <th>tenure_total_months</th>\n",
       "      <th>tenure_group</th>\n",
       "      <th>age_group</th>\n",
       "    </tr>\n",
       "  </thead>\n",
       "  <tbody>\n",
       "    <tr>\n",
       "      <th>0</th>\n",
       "      <td>836976</td>\n",
       "      <td>6</td>\n",
       "      <td>73</td>\n",
       "      <td>60</td>\n",
       "      <td>unknown</td>\n",
       "      <td>2</td>\n",
       "      <td>45105</td>\n",
       "      <td>6</td>\n",
       "      <td>9</td>\n",
       "      <td>145</td>\n",
       "      <td>long-standing</td>\n",
       "      <td>older</td>\n",
       "    </tr>\n",
       "    <tr>\n",
       "      <th>1</th>\n",
       "      <td>2304905</td>\n",
       "      <td>7</td>\n",
       "      <td>94</td>\n",
       "      <td>58</td>\n",
       "      <td>unknown</td>\n",
       "      <td>2</td>\n",
       "      <td>110860</td>\n",
       "      <td>6</td>\n",
       "      <td>9</td>\n",
       "      <td>178</td>\n",
       "      <td>long-standing</td>\n",
       "      <td>older</td>\n",
       "    </tr>\n",
       "    <tr>\n",
       "      <th>2</th>\n",
       "      <td>1439522</td>\n",
       "      <td>5</td>\n",
       "      <td>64</td>\n",
       "      <td>32</td>\n",
       "      <td>unknown</td>\n",
       "      <td>2</td>\n",
       "      <td>52468</td>\n",
       "      <td>6</td>\n",
       "      <td>9</td>\n",
       "      <td>124</td>\n",
       "      <td>long-standing</td>\n",
       "      <td>middle-aged</td>\n",
       "    </tr>\n",
       "    <tr>\n",
       "      <th>3</th>\n",
       "      <td>1562045</td>\n",
       "      <td>16</td>\n",
       "      <td>198</td>\n",
       "      <td>49</td>\n",
       "      <td>M</td>\n",
       "      <td>2</td>\n",
       "      <td>67455</td>\n",
       "      <td>3</td>\n",
       "      <td>6</td>\n",
       "      <td>390</td>\n",
       "      <td>long-standing</td>\n",
       "      <td>middle-aged</td>\n",
       "    </tr>\n",
       "    <tr>\n",
       "      <th>4</th>\n",
       "      <td>5126305</td>\n",
       "      <td>12</td>\n",
       "      <td>145</td>\n",
       "      <td>33</td>\n",
       "      <td>F</td>\n",
       "      <td>2</td>\n",
       "      <td>103672</td>\n",
       "      <td>0</td>\n",
       "      <td>3</td>\n",
       "      <td>289</td>\n",
       "      <td>long-standing</td>\n",
       "      <td>middle-aged</td>\n",
       "    </tr>\n",
       "  </tbody>\n",
       "</table>\n",
       "</div>"
      ],
      "text/plain": [
       "   client_id  tenure_year  tenure_month  client_age   gender  num_accts  \\\n",
       "0     836976            6            73          60  unknown          2   \n",
       "1    2304905            7            94          58  unknown          2   \n",
       "2    1439522            5            64          32  unknown          2   \n",
       "3    1562045           16           198          49        M          2   \n",
       "4    5126305           12           145          33        F          2   \n",
       "\n",
       "   total_balance  calls_6_mnth  logons_6_mnth  tenure_total_months  \\\n",
       "0          45105             6              9                  145   \n",
       "1         110860             6              9                  178   \n",
       "2          52468             6              9                  124   \n",
       "3          67455             3              6                  390   \n",
       "4         103672             0              3                  289   \n",
       "\n",
       "    tenure_group    age_group  \n",
       "0  long-standing        older  \n",
       "1  long-standing        older  \n",
       "2  long-standing  middle-aged  \n",
       "3  long-standing  middle-aged  \n",
       "4  long-standing  middle-aged  "
      ]
     },
     "execution_count": 62,
     "metadata": {},
     "output_type": "execute_result"
    }
   ],
   "source": [
    "df_clean.head()"
   ]
  },
  {
   "cell_type": "code",
   "execution_count": 69,
   "id": "7d26343f",
   "metadata": {},
   "outputs": [
    {
     "data": {
      "text/html": [
       "<div>\n",
       "<style scoped>\n",
       "    .dataframe tbody tr th:only-of-type {\n",
       "        vertical-align: middle;\n",
       "    }\n",
       "\n",
       "    .dataframe tbody tr th {\n",
       "        vertical-align: top;\n",
       "    }\n",
       "\n",
       "    .dataframe thead th {\n",
       "        text-align: right;\n",
       "    }\n",
       "</style>\n",
       "<table border=\"1\" class=\"dataframe\">\n",
       "  <thead>\n",
       "    <tr style=\"text-align: right;\">\n",
       "      <th></th>\n",
       "      <th>client_id</th>\n",
       "      <th>tenure_year</th>\n",
       "      <th>tenure_month</th>\n",
       "      <th>client_age</th>\n",
       "      <th>gender</th>\n",
       "      <th>num_accts</th>\n",
       "      <th>total_balance</th>\n",
       "      <th>calls_6_mnth</th>\n",
       "      <th>logons_6_mnth</th>\n",
       "      <th>tenure_total_months</th>\n",
       "      <th>tenure_group</th>\n",
       "      <th>age_group</th>\n",
       "    </tr>\n",
       "  </thead>\n",
       "  <tbody>\n",
       "    <tr>\n",
       "      <th>0</th>\n",
       "      <td>836976</td>\n",
       "      <td>6</td>\n",
       "      <td>73</td>\n",
       "      <td>60</td>\n",
       "      <td>unknown</td>\n",
       "      <td>2</td>\n",
       "      <td>45105</td>\n",
       "      <td>6</td>\n",
       "      <td>9</td>\n",
       "      <td>145</td>\n",
       "      <td>new</td>\n",
       "      <td>senior</td>\n",
       "    </tr>\n",
       "    <tr>\n",
       "      <th>1</th>\n",
       "      <td>2304905</td>\n",
       "      <td>7</td>\n",
       "      <td>94</td>\n",
       "      <td>58</td>\n",
       "      <td>unknown</td>\n",
       "      <td>2</td>\n",
       "      <td>110860</td>\n",
       "      <td>6</td>\n",
       "      <td>9</td>\n",
       "      <td>178</td>\n",
       "      <td>mid-term</td>\n",
       "      <td>senior</td>\n",
       "    </tr>\n",
       "    <tr>\n",
       "      <th>2</th>\n",
       "      <td>1439522</td>\n",
       "      <td>5</td>\n",
       "      <td>64</td>\n",
       "      <td>32</td>\n",
       "      <td>unknown</td>\n",
       "      <td>2</td>\n",
       "      <td>52468</td>\n",
       "      <td>6</td>\n",
       "      <td>9</td>\n",
       "      <td>124</td>\n",
       "      <td>new</td>\n",
       "      <td>mature</td>\n",
       "    </tr>\n",
       "    <tr>\n",
       "      <th>3</th>\n",
       "      <td>1562045</td>\n",
       "      <td>16</td>\n",
       "      <td>198</td>\n",
       "      <td>49</td>\n",
       "      <td>M</td>\n",
       "      <td>2</td>\n",
       "      <td>67455</td>\n",
       "      <td>3</td>\n",
       "      <td>6</td>\n",
       "      <td>390</td>\n",
       "      <td>long-standing</td>\n",
       "      <td>mature</td>\n",
       "    </tr>\n",
       "    <tr>\n",
       "      <th>4</th>\n",
       "      <td>5126305</td>\n",
       "      <td>12</td>\n",
       "      <td>145</td>\n",
       "      <td>33</td>\n",
       "      <td>F</td>\n",
       "      <td>2</td>\n",
       "      <td>103672</td>\n",
       "      <td>0</td>\n",
       "      <td>3</td>\n",
       "      <td>289</td>\n",
       "      <td>mid-term</td>\n",
       "      <td>mature</td>\n",
       "    </tr>\n",
       "  </tbody>\n",
       "</table>\n",
       "</div>"
      ],
      "text/plain": [
       "   client_id  tenure_year  tenure_month  client_age   gender  num_accts  \\\n",
       "0     836976            6            73          60  unknown          2   \n",
       "1    2304905            7            94          58  unknown          2   \n",
       "2    1439522            5            64          32  unknown          2   \n",
       "3    1562045           16           198          49        M          2   \n",
       "4    5126305           12           145          33        F          2   \n",
       "\n",
       "   total_balance  calls_6_mnth  logons_6_mnth  tenure_total_months  \\\n",
       "0          45105             6              9                  145   \n",
       "1         110860             6              9                  178   \n",
       "2          52468             6              9                  124   \n",
       "3          67455             3              6                  390   \n",
       "4         103672             0              3                  289   \n",
       "\n",
       "    tenure_group age_group  \n",
       "0            new    senior  \n",
       "1       mid-term    senior  \n",
       "2            new    mature  \n",
       "3  long-standing    mature  \n",
       "4       mid-term    mature  "
      ]
     },
     "execution_count": 69,
     "metadata": {},
     "output_type": "execute_result"
    }
   ],
   "source": [
    "# classify clients as new or ancient, young or old\n",
    "\n",
    "df_clean['tenure_group'] = pd.cut(df_clean['tenure_total_months'], bins=[0, 150, 300, float('inf')], labels=['new', 'mid-term', 'long-standing'],  include_lowest=True)\n",
    "df_clean['age_group'] = pd.cut(df_clean['client_age'], bins=[0, 30, 50, 100], labels=['young', 'mature', 'senior'])\n",
    "\n",
    "df_clean.head()\n"
   ]
  },
  {
   "cell_type": "code",
   "execution_count": 74,
   "id": "c97ca9f1",
   "metadata": {},
   "outputs": [
    {
     "name": "stderr",
     "output_type": "stream",
     "text": [
      "C:\\Users\\sofia\\AppData\\Local\\Temp\\ipykernel_24528\\3297282139.py:1: FutureWarning: The default of observed=False is deprecated and will be changed to True in a future version of pandas. Pass observed=False to retain current behavior or observed=True to adopt the future default and silence this warning.\n",
      "  heatmap_data = df_clean.groupby(['age_group', 'tenure_group']).size().unstack()\n"
     ]
    },
    {
     "data": {
      "text/html": [
       "<div>\n",
       "<style scoped>\n",
       "    .dataframe tbody tr th:only-of-type {\n",
       "        vertical-align: middle;\n",
       "    }\n",
       "\n",
       "    .dataframe tbody tr th {\n",
       "        vertical-align: top;\n",
       "    }\n",
       "\n",
       "    .dataframe thead th {\n",
       "        text-align: right;\n",
       "    }\n",
       "</style>\n",
       "<table border=\"1\" class=\"dataframe\">\n",
       "  <thead>\n",
       "    <tr style=\"text-align: right;\">\n",
       "      <th>tenure_group</th>\n",
       "      <th>new</th>\n",
       "      <th>mid-term</th>\n",
       "      <th>long-standing</th>\n",
       "    </tr>\n",
       "    <tr>\n",
       "      <th>age_group</th>\n",
       "      <th></th>\n",
       "      <th></th>\n",
       "      <th></th>\n",
       "    </tr>\n",
       "  </thead>\n",
       "  <tbody>\n",
       "    <tr>\n",
       "      <th>young</th>\n",
       "      <td>41.242253</td>\n",
       "      <td>39.834276</td>\n",
       "      <td>18.923471</td>\n",
       "    </tr>\n",
       "    <tr>\n",
       "      <th>mature</th>\n",
       "      <td>19.781773</td>\n",
       "      <td>37.428370</td>\n",
       "      <td>42.789858</td>\n",
       "    </tr>\n",
       "    <tr>\n",
       "      <th>senior</th>\n",
       "      <td>16.602801</td>\n",
       "      <td>30.751189</td>\n",
       "      <td>52.646010</td>\n",
       "    </tr>\n",
       "  </tbody>\n",
       "</table>\n",
       "</div>"
      ],
      "text/plain": [
       "tenure_group        new   mid-term  long-standing\n",
       "age_group                                        \n",
       "young         41.242253  39.834276      18.923471\n",
       "mature        19.781773  37.428370      42.789858\n",
       "senior        16.602801  30.751189      52.646010"
      ]
     },
     "execution_count": 74,
     "metadata": {},
     "output_type": "execute_result"
    }
   ],
   "source": [
    "heatmap_data = df_clean.groupby(['age_group', 'tenure_group']).size().unstack()\n",
    "heatmap_data\n",
    "\n",
    "heatmap_pct = heatmap_data.div(heatmap_data.sum(axis=1), axis=0) * 100\n",
    "heatmap_pct"
   ]
  },
  {
   "cell_type": "code",
   "execution_count": 77,
   "id": "e7dcc661",
   "metadata": {},
   "outputs": [
    {
     "data": {
      "image/png": "[encoded data removed]",
      "text/plain": [
       "<Figure size 800x600 with 2 Axes>"
      ]
     },
     "metadata": {},
     "output_type": "display_data"
    }
   ],
   "source": [
    "import pandas as pd\n",
    "import matplotlib.pyplot as plt\n",
    "import seaborn as sns\n",
    "\n",
    "plt.figure(figsize=(8, 6))\n",
    "sns.heatmap(heatmap_pct, annot=True, fmt='.1f', cmap='YlGnBu')\n",
    "plt.title('Percentage Distribution of Clients by Age Group and Tenure')\n",
    "plt.ylabel('Age Group')\n",
    "plt.xlabel('Tenure Group')\n",
    "plt.tight_layout()\n",
    "plt.show()"
   ]
  },
  {
   "cell_type": "code",
   "execution_count": 44,
   "id": "fde33940",
   "metadata": {},
   "outputs": [
    {
     "name": "stdout",
     "output_type": "stream",
     "text": [
      "count    70609.000000\n",
      "mean       295.233639\n",
      "std        164.548834\n",
      "min        -13.000000\n",
      "25%        154.000000\n",
      "50%        268.000000\n",
      "75%        384.000000\n",
      "max       1493.000000\n",
      "Name: tenure_total_months, dtype: float64\n"
     ]
    }
   ],
   "source": [
    "print(demo['tenure_total_months'].describe())\n"
   ]
  },
  {
   "cell_type": "code",
   "execution_count": 36,
   "id": "dfb8b7da",
   "metadata": {},
   "outputs": [
    {
     "data": {
      "text/html": [
       "<div>\n",
       "<style scoped>\n",
       "    .dataframe tbody tr th:only-of-type {\n",
       "        vertical-align: middle;\n",
       "    }\n",
       "\n",
       "    .dataframe tbody tr th {\n",
       "        vertical-align: top;\n",
       "    }\n",
       "\n",
       "    .dataframe thead th {\n",
       "        text-align: right;\n",
       "    }\n",
       "</style>\n",
       "<table border=\"1\" class=\"dataframe\">\n",
       "  <thead>\n",
       "    <tr style=\"text-align: right;\">\n",
       "      <th></th>\n",
       "      <th>client_id</th>\n",
       "      <th>Variation</th>\n",
       "    </tr>\n",
       "  </thead>\n",
       "  <tbody>\n",
       "    <tr>\n",
       "      <th>0</th>\n",
       "      <td>9988021</td>\n",
       "      <td>Test</td>\n",
       "    </tr>\n",
       "    <tr>\n",
       "      <th>1</th>\n",
       "      <td>8320017</td>\n",
       "      <td>Test</td>\n",
       "    </tr>\n",
       "    <tr>\n",
       "      <th>2</th>\n",
       "      <td>4033851</td>\n",
       "      <td>Control</td>\n",
       "    </tr>\n",
       "    <tr>\n",
       "      <th>3</th>\n",
       "      <td>1982004</td>\n",
       "      <td>Test</td>\n",
       "    </tr>\n",
       "    <tr>\n",
       "      <th>4</th>\n",
       "      <td>9294070</td>\n",
       "      <td>Control</td>\n",
       "    </tr>\n",
       "    <tr>\n",
       "      <th>...</th>\n",
       "      <td>...</td>\n",
       "      <td>...</td>\n",
       "    </tr>\n",
       "    <tr>\n",
       "      <th>70604</th>\n",
       "      <td>2443347</td>\n",
       "      <td>NaN</td>\n",
       "    </tr>\n",
       "    <tr>\n",
       "      <th>70605</th>\n",
       "      <td>8788427</td>\n",
       "      <td>NaN</td>\n",
       "    </tr>\n",
       "    <tr>\n",
       "      <th>70606</th>\n",
       "      <td>266828</td>\n",
       "      <td>NaN</td>\n",
       "    </tr>\n",
       "    <tr>\n",
       "      <th>70607</th>\n",
       "      <td>1266421</td>\n",
       "      <td>NaN</td>\n",
       "    </tr>\n",
       "    <tr>\n",
       "      <th>70608</th>\n",
       "      <td>9895983</td>\n",
       "      <td>NaN</td>\n",
       "    </tr>\n",
       "  </tbody>\n",
       "</table>\n",
       "<p>70609 rows × 2 columns</p>\n",
       "</div>"
      ],
      "text/plain": [
       "       client_id Variation\n",
       "0        9988021      Test\n",
       "1        8320017      Test\n",
       "2        4033851   Control\n",
       "3        1982004      Test\n",
       "4        9294070   Control\n",
       "...          ...       ...\n",
       "70604    2443347       NaN\n",
       "70605    8788427       NaN\n",
       "70606     266828       NaN\n",
       "70607    1266421       NaN\n",
       "70608    9895983       NaN\n",
       "\n",
       "[70609 rows x 2 columns]"
      ]
     },
     "execution_count": 36,
     "metadata": {},
     "output_type": "execute_result"
    }
   ],
   "source": [
    "exp_clients = pd.read_csv('df_final_experiment_clients.txt')\n",
    "exp_clients"
   ]
  },
  {
   "cell_type": "code",
   "execution_count": 16,
   "id": "f2572483",
   "metadata": {},
   "outputs": [
    {
     "name": "stdout",
     "output_type": "stream",
     "text": [
      "Index(['client_id', 'variation'], dtype='object')\n"
     ]
    }
   ],
   "source": [
    "exp_clients.columns = [col.lower() for col in exp_clients.columns]\n",
    "print(exp_clients.columns)"
   ]
  },
  {
   "cell_type": "code",
   "execution_count": 17,
   "id": "94dcfcdf",
   "metadata": {},
   "outputs": [
    {
     "name": "stdout",
     "output_type": "stream",
     "text": [
      "\n",
      "DataFrame after replacing NaN values in 'variation':\n",
      "       client_id variation\n",
      "0        9988021      Test\n",
      "1        8320017      Test\n",
      "2        4033851   Control\n",
      "3        1982004      Test\n",
      "4        9294070   Control\n",
      "...          ...       ...\n",
      "70604    2443347   unknown\n",
      "70605    8788427   unknown\n",
      "70606     266828   unknown\n",
      "70607    1266421   unknown\n",
      "70608    9895983   unknown\n",
      "\n",
      "[70609 rows x 2 columns]\n"
     ]
    }
   ],
   "source": [
    "exp_clients['variation'] = exp_clients['variation'].fillna('unknown')\n",
    "\n",
    "# Display the DataFrame after cleaning\n",
    "print(\"\\nDataFrame after replacing NaN values in 'variation':\")\n",
    "print(exp_clients)"
   ]
  },
  {
   "cell_type": "code",
   "execution_count": 18,
   "id": "c56ba848",
   "metadata": {},
   "outputs": [
    {
     "name": "stdout",
     "output_type": "stream",
     "text": [
      "\n",
      "Counts of unique values in 'variation' column:\n",
      "variation\n",
      "Test       26968\n",
      "Control    23532\n",
      "unknown    20109\n",
      "Name: count, dtype: int64\n"
     ]
    }
   ],
   "source": [
    "variation_counts = exp_clients['variation'].value_counts()\n",
    "\n",
    "# Display the counts of unique values\n",
    "print(\"\\nCounts of unique values in 'variation' column:\")\n",
    "print(variation_counts)"
   ]
  },
  {
   "cell_type": "code",
   "execution_count": 19,
   "id": "cad91302",
   "metadata": {},
   "outputs": [
    {
     "data": {
      "text/plain": [
       "0"
      ]
     },
     "execution_count": 19,
     "metadata": {},
     "output_type": "execute_result"
    }
   ],
   "source": [
    "exp_clients_duplicates = exp_clients.duplicated()\n",
    "exp_clients_duplicates.sum()"
   ]
  },
  {
   "cell_type": "code",
   "execution_count": 20,
   "id": "6371b328",
   "metadata": {},
   "outputs": [
    {
     "name": "stdout",
     "output_type": "stream",
     "text": [
      "client_id    0\n",
      "variation    0\n",
      "dtype: int64\n"
     ]
    }
   ],
   "source": [
    "print(exp_clients.isnull().sum())"
   ]
  },
  {
   "cell_type": "code",
   "execution_count": 21,
   "id": "312dd66d",
   "metadata": {},
   "outputs": [
    {
     "data": {
      "text/plain": [
       "array(['Test', 'Control', 'unknown'], dtype=object)"
      ]
     },
     "execution_count": 21,
     "metadata": {},
     "output_type": "execute_result"
    }
   ],
   "source": [
    "exp_clients['variation'].unique()"
   ]
  },
  {
   "cell_type": "code",
   "execution_count": 22,
   "id": "d078662f",
   "metadata": {},
   "outputs": [
    {
     "data": {
      "text/plain": [
       "client_id    70609\n",
       "variation        3\n",
       "dtype: int64"
      ]
     },
     "execution_count": 22,
     "metadata": {},
     "output_type": "execute_result"
    }
   ],
   "source": [
    "exp_clients.nunique()"
   ]
  },
  {
   "cell_type": "code",
   "execution_count": null,
   "id": "b1b8132f",
   "metadata": {},
   "outputs": [],
   "source": []
  }
 ],
 "metadata": {
  "kernelspec": {
   "display_name": "base",
   "language": "python",
   "name": "python3"
  },
  "language_info": {
   "codemirror_mode": {
    "name": "ipython",
    "version": 3
   },
   "file_extension": ".py",
   "mimetype": "text/x-python",
   "name": "python",
   "nbconvert_exporter": "python",
   "pygments_lexer": "ipython3",
   "version": "3.12.7"
  }
 },
 "nbformat": 4,
 "nbformat_minor": 5
}
