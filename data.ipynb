{
 "cells": [
  {
   "cell_type": "code",
   "execution_count": 30,
   "id": "fe275bb1",
   "metadata": {},
   "outputs": [],
   "source": [
    "import pandas as pd"
   ]
  },
  {
   "cell_type": "code",
   "execution_count": 31,
   "id": "32cd8f96",
   "metadata": {},
   "outputs": [
    {
     "data": {
      "text/html": [
       "<div>\n",
       "<style scoped>\n",
       "    .dataframe tbody tr th:only-of-type {\n",
       "        vertical-align: middle;\n",
       "    }\n",
       "\n",
       "    .dataframe tbody tr th {\n",
       "        vertical-align: top;\n",
       "    }\n",
       "\n",
       "    .dataframe thead th {\n",
       "        text-align: right;\n",
       "    }\n",
       "</style>\n",
       "<table border=\"1\" class=\"dataframe\">\n",
       "  <thead>\n",
       "    <tr style=\"text-align: right;\">\n",
       "      <th></th>\n",
       "      <th>client_id</th>\n",
       "      <th>clnt_tenure_yr</th>\n",
       "      <th>clnt_tenure_mnth</th>\n",
       "      <th>clnt_age</th>\n",
       "      <th>gendr</th>\n",
       "      <th>num_accts</th>\n",
       "      <th>bal</th>\n",
       "      <th>calls_6_mnth</th>\n",
       "      <th>logons_6_mnth</th>\n",
       "    </tr>\n",
       "  </thead>\n",
       "  <tbody>\n",
       "    <tr>\n",
       "      <th>0</th>\n",
       "      <td>836976</td>\n",
       "      <td>6.0</td>\n",
       "      <td>73.0</td>\n",
       "      <td>60.5</td>\n",
       "      <td>U</td>\n",
       "      <td>2.0</td>\n",
       "      <td>45105.30</td>\n",
       "      <td>6.0</td>\n",
       "      <td>9.0</td>\n",
       "    </tr>\n",
       "    <tr>\n",
       "      <th>1</th>\n",
       "      <td>2304905</td>\n",
       "      <td>7.0</td>\n",
       "      <td>94.0</td>\n",
       "      <td>58.0</td>\n",
       "      <td>U</td>\n",
       "      <td>2.0</td>\n",
       "      <td>110860.30</td>\n",
       "      <td>6.0</td>\n",
       "      <td>9.0</td>\n",
       "    </tr>\n",
       "    <tr>\n",
       "      <th>2</th>\n",
       "      <td>1439522</td>\n",
       "      <td>5.0</td>\n",
       "      <td>64.0</td>\n",
       "      <td>32.0</td>\n",
       "      <td>U</td>\n",
       "      <td>2.0</td>\n",
       "      <td>52467.79</td>\n",
       "      <td>6.0</td>\n",
       "      <td>9.0</td>\n",
       "    </tr>\n",
       "    <tr>\n",
       "      <th>3</th>\n",
       "      <td>1562045</td>\n",
       "      <td>16.0</td>\n",
       "      <td>198.0</td>\n",
       "      <td>49.0</td>\n",
       "      <td>M</td>\n",
       "      <td>2.0</td>\n",
       "      <td>67454.65</td>\n",
       "      <td>3.0</td>\n",
       "      <td>6.0</td>\n",
       "    </tr>\n",
       "    <tr>\n",
       "      <th>4</th>\n",
       "      <td>5126305</td>\n",
       "      <td>12.0</td>\n",
       "      <td>145.0</td>\n",
       "      <td>33.0</td>\n",
       "      <td>F</td>\n",
       "      <td>2.0</td>\n",
       "      <td>103671.75</td>\n",
       "      <td>0.0</td>\n",
       "      <td>3.0</td>\n",
       "    </tr>\n",
       "    <tr>\n",
       "      <th>...</th>\n",
       "      <td>...</td>\n",
       "      <td>...</td>\n",
       "      <td>...</td>\n",
       "      <td>...</td>\n",
       "      <td>...</td>\n",
       "      <td>...</td>\n",
       "      <td>...</td>\n",
       "      <td>...</td>\n",
       "      <td>...</td>\n",
       "    </tr>\n",
       "    <tr>\n",
       "      <th>70604</th>\n",
       "      <td>7993686</td>\n",
       "      <td>4.0</td>\n",
       "      <td>56.0</td>\n",
       "      <td>38.5</td>\n",
       "      <td>U</td>\n",
       "      <td>3.0</td>\n",
       "      <td>1411062.68</td>\n",
       "      <td>5.0</td>\n",
       "      <td>5.0</td>\n",
       "    </tr>\n",
       "    <tr>\n",
       "      <th>70605</th>\n",
       "      <td>8981690</td>\n",
       "      <td>12.0</td>\n",
       "      <td>148.0</td>\n",
       "      <td>31.0</td>\n",
       "      <td>M</td>\n",
       "      <td>2.0</td>\n",
       "      <td>101867.07</td>\n",
       "      <td>6.0</td>\n",
       "      <td>6.0</td>\n",
       "    </tr>\n",
       "    <tr>\n",
       "      <th>70606</th>\n",
       "      <td>333913</td>\n",
       "      <td>16.0</td>\n",
       "      <td>198.0</td>\n",
       "      <td>61.5</td>\n",
       "      <td>F</td>\n",
       "      <td>2.0</td>\n",
       "      <td>40745.00</td>\n",
       "      <td>3.0</td>\n",
       "      <td>3.0</td>\n",
       "    </tr>\n",
       "    <tr>\n",
       "      <th>70607</th>\n",
       "      <td>1573142</td>\n",
       "      <td>21.0</td>\n",
       "      <td>255.0</td>\n",
       "      <td>68.0</td>\n",
       "      <td>M</td>\n",
       "      <td>3.0</td>\n",
       "      <td>475114.69</td>\n",
       "      <td>4.0</td>\n",
       "      <td>4.0</td>\n",
       "    </tr>\n",
       "    <tr>\n",
       "      <th>70608</th>\n",
       "      <td>5602139</td>\n",
       "      <td>21.0</td>\n",
       "      <td>254.0</td>\n",
       "      <td>59.5</td>\n",
       "      <td>F</td>\n",
       "      <td>3.0</td>\n",
       "      <td>157498.73</td>\n",
       "      <td>7.0</td>\n",
       "      <td>7.0</td>\n",
       "    </tr>\n",
       "  </tbody>\n",
       "</table>\n",
       "<p>70609 rows × 9 columns</p>\n",
       "</div>"
      ],
      "text/plain": [
       "       client_id  clnt_tenure_yr  clnt_tenure_mnth  clnt_age gendr  num_accts  \\\n",
       "0         836976             6.0              73.0      60.5     U        2.0   \n",
       "1        2304905             7.0              94.0      58.0     U        2.0   \n",
       "2        1439522             5.0              64.0      32.0     U        2.0   \n",
       "3        1562045            16.0             198.0      49.0     M        2.0   \n",
       "4        5126305            12.0             145.0      33.0     F        2.0   \n",
       "...          ...             ...               ...       ...   ...        ...   \n",
       "70604    7993686             4.0              56.0      38.5     U        3.0   \n",
       "70605    8981690            12.0             148.0      31.0     M        2.0   \n",
       "70606     333913            16.0             198.0      61.5     F        2.0   \n",
       "70607    1573142            21.0             255.0      68.0     M        3.0   \n",
       "70608    5602139            21.0             254.0      59.5     F        3.0   \n",
       "\n",
       "              bal  calls_6_mnth  logons_6_mnth  \n",
       "0        45105.30           6.0            9.0  \n",
       "1       110860.30           6.0            9.0  \n",
       "2        52467.79           6.0            9.0  \n",
       "3        67454.65           3.0            6.0  \n",
       "4       103671.75           0.0            3.0  \n",
       "...           ...           ...            ...  \n",
       "70604  1411062.68           5.0            5.0  \n",
       "70605   101867.07           6.0            6.0  \n",
       "70606    40745.00           3.0            3.0  \n",
       "70607   475114.69           4.0            4.0  \n",
       "70608   157498.73           7.0            7.0  \n",
       "\n",
       "[70609 rows x 9 columns]"
      ]
     },
     "execution_count": 31,
     "metadata": {},
     "output_type": "execute_result"
    }
   ],
   "source": [
    "demo = pd.read_csv('df_final_demo.txt')\n",
    "demo"
   ]
  },
  {
   "cell_type": "code",
   "execution_count": 32,
   "id": "28657475",
   "metadata": {},
   "outputs": [
    {
     "data": {
      "text/plain": [
       "0"
      ]
     },
     "execution_count": 32,
     "metadata": {},
     "output_type": "execute_result"
    }
   ],
   "source": [
    "demo_duplicates = demo.duplicated()\n",
    "demo_duplicates.sum()"
   ]
  },
  {
   "cell_type": "code",
   "execution_count": 33,
   "id": "525b21c6",
   "metadata": {},
   "outputs": [
    {
     "name": "stdout",
     "output_type": "stream",
     "text": [
      "client_id            0\n",
      "clnt_tenure_yr      14\n",
      "clnt_tenure_mnth    14\n",
      "clnt_age            15\n",
      "gendr               14\n",
      "num_accts           14\n",
      "bal                 14\n",
      "calls_6_mnth        14\n",
      "logons_6_mnth       14\n",
      "dtype: int64\n"
     ]
    }
   ],
   "source": [
    "print(demo.isnull().sum())"
   ]
  },
  {
   "cell_type": "code",
   "execution_count": 34,
   "id": "2592e8c6",
   "metadata": {},
   "outputs": [
    {
     "name": "stdout",
     "output_type": "stream",
     "text": [
      "Index(['client_id', 'clnt_tenure_yr', 'clnt_tenure_mnth', 'clnt_age', 'gendr',\n",
      "       'num_accts', 'bal', 'calls_6_mnth', 'logons_6_mnth'],\n",
      "      dtype='object')\n"
     ]
    }
   ],
   "source": [
    "print(demo.columns)"
   ]
  },
  {
   "cell_type": "code",
   "execution_count": 35,
   "id": "d9c8aad5",
   "metadata": {},
   "outputs": [
    {
     "data": {
      "text/html": [
       "<div>\n",
       "<style scoped>\n",
       "    .dataframe tbody tr th:only-of-type {\n",
       "        vertical-align: middle;\n",
       "    }\n",
       "\n",
       "    .dataframe tbody tr th {\n",
       "        vertical-align: top;\n",
       "    }\n",
       "\n",
       "    .dataframe thead th {\n",
       "        text-align: right;\n",
       "    }\n",
       "</style>\n",
       "<table border=\"1\" class=\"dataframe\">\n",
       "  <thead>\n",
       "    <tr style=\"text-align: right;\">\n",
       "      <th></th>\n",
       "      <th>client_id</th>\n",
       "      <th>tenure_year</th>\n",
       "      <th>tenure_month</th>\n",
       "      <th>client_age</th>\n",
       "      <th>gender</th>\n",
       "      <th>num_accts</th>\n",
       "      <th>total_balance</th>\n",
       "      <th>calls_6_mnth</th>\n",
       "      <th>logons_6_mnth</th>\n",
       "    </tr>\n",
       "  </thead>\n",
       "  <tbody>\n",
       "    <tr>\n",
       "      <th>0</th>\n",
       "      <td>836976</td>\n",
       "      <td>6.0</td>\n",
       "      <td>73.0</td>\n",
       "      <td>60.5</td>\n",
       "      <td>U</td>\n",
       "      <td>2.0</td>\n",
       "      <td>45105.30</td>\n",
       "      <td>6.0</td>\n",
       "      <td>9.0</td>\n",
       "    </tr>\n",
       "    <tr>\n",
       "      <th>1</th>\n",
       "      <td>2304905</td>\n",
       "      <td>7.0</td>\n",
       "      <td>94.0</td>\n",
       "      <td>58.0</td>\n",
       "      <td>U</td>\n",
       "      <td>2.0</td>\n",
       "      <td>110860.30</td>\n",
       "      <td>6.0</td>\n",
       "      <td>9.0</td>\n",
       "    </tr>\n",
       "    <tr>\n",
       "      <th>2</th>\n",
       "      <td>1439522</td>\n",
       "      <td>5.0</td>\n",
       "      <td>64.0</td>\n",
       "      <td>32.0</td>\n",
       "      <td>U</td>\n",
       "      <td>2.0</td>\n",
       "      <td>52467.79</td>\n",
       "      <td>6.0</td>\n",
       "      <td>9.0</td>\n",
       "    </tr>\n",
       "    <tr>\n",
       "      <th>3</th>\n",
       "      <td>1562045</td>\n",
       "      <td>16.0</td>\n",
       "      <td>198.0</td>\n",
       "      <td>49.0</td>\n",
       "      <td>M</td>\n",
       "      <td>2.0</td>\n",
       "      <td>67454.65</td>\n",
       "      <td>3.0</td>\n",
       "      <td>6.0</td>\n",
       "    </tr>\n",
       "    <tr>\n",
       "      <th>4</th>\n",
       "      <td>5126305</td>\n",
       "      <td>12.0</td>\n",
       "      <td>145.0</td>\n",
       "      <td>33.0</td>\n",
       "      <td>F</td>\n",
       "      <td>2.0</td>\n",
       "      <td>103671.75</td>\n",
       "      <td>0.0</td>\n",
       "      <td>3.0</td>\n",
       "    </tr>\n",
       "    <tr>\n",
       "      <th>...</th>\n",
       "      <td>...</td>\n",
       "      <td>...</td>\n",
       "      <td>...</td>\n",
       "      <td>...</td>\n",
       "      <td>...</td>\n",
       "      <td>...</td>\n",
       "      <td>...</td>\n",
       "      <td>...</td>\n",
       "      <td>...</td>\n",
       "    </tr>\n",
       "    <tr>\n",
       "      <th>70604</th>\n",
       "      <td>7993686</td>\n",
       "      <td>4.0</td>\n",
       "      <td>56.0</td>\n",
       "      <td>38.5</td>\n",
       "      <td>U</td>\n",
       "      <td>3.0</td>\n",
       "      <td>1411062.68</td>\n",
       "      <td>5.0</td>\n",
       "      <td>5.0</td>\n",
       "    </tr>\n",
       "    <tr>\n",
       "      <th>70605</th>\n",
       "      <td>8981690</td>\n",
       "      <td>12.0</td>\n",
       "      <td>148.0</td>\n",
       "      <td>31.0</td>\n",
       "      <td>M</td>\n",
       "      <td>2.0</td>\n",
       "      <td>101867.07</td>\n",
       "      <td>6.0</td>\n",
       "      <td>6.0</td>\n",
       "    </tr>\n",
       "    <tr>\n",
       "      <th>70606</th>\n",
       "      <td>333913</td>\n",
       "      <td>16.0</td>\n",
       "      <td>198.0</td>\n",
       "      <td>61.5</td>\n",
       "      <td>F</td>\n",
       "      <td>2.0</td>\n",
       "      <td>40745.00</td>\n",
       "      <td>3.0</td>\n",
       "      <td>3.0</td>\n",
       "    </tr>\n",
       "    <tr>\n",
       "      <th>70607</th>\n",
       "      <td>1573142</td>\n",
       "      <td>21.0</td>\n",
       "      <td>255.0</td>\n",
       "      <td>68.0</td>\n",
       "      <td>M</td>\n",
       "      <td>3.0</td>\n",
       "      <td>475114.69</td>\n",
       "      <td>4.0</td>\n",
       "      <td>4.0</td>\n",
       "    </tr>\n",
       "    <tr>\n",
       "      <th>70608</th>\n",
       "      <td>5602139</td>\n",
       "      <td>21.0</td>\n",
       "      <td>254.0</td>\n",
       "      <td>59.5</td>\n",
       "      <td>F</td>\n",
       "      <td>3.0</td>\n",
       "      <td>157498.73</td>\n",
       "      <td>7.0</td>\n",
       "      <td>7.0</td>\n",
       "    </tr>\n",
       "  </tbody>\n",
       "</table>\n",
       "<p>70609 rows × 9 columns</p>\n",
       "</div>"
      ],
      "text/plain": [
       "       client_id  tenure_year  tenure_month  client_age gender  num_accts  \\\n",
       "0         836976          6.0          73.0        60.5      U        2.0   \n",
       "1        2304905          7.0          94.0        58.0      U        2.0   \n",
       "2        1439522          5.0          64.0        32.0      U        2.0   \n",
       "3        1562045         16.0         198.0        49.0      M        2.0   \n",
       "4        5126305         12.0         145.0        33.0      F        2.0   \n",
       "...          ...          ...           ...         ...    ...        ...   \n",
       "70604    7993686          4.0          56.0        38.5      U        3.0   \n",
       "70605    8981690         12.0         148.0        31.0      M        2.0   \n",
       "70606     333913         16.0         198.0        61.5      F        2.0   \n",
       "70607    1573142         21.0         255.0        68.0      M        3.0   \n",
       "70608    5602139         21.0         254.0        59.5      F        3.0   \n",
       "\n",
       "       total_balance  calls_6_mnth  logons_6_mnth  \n",
       "0           45105.30           6.0            9.0  \n",
       "1          110860.30           6.0            9.0  \n",
       "2           52467.79           6.0            9.0  \n",
       "3           67454.65           3.0            6.0  \n",
       "4          103671.75           0.0            3.0  \n",
       "...              ...           ...            ...  \n",
       "70604     1411062.68           5.0            5.0  \n",
       "70605      101867.07           6.0            6.0  \n",
       "70606       40745.00           3.0            3.0  \n",
       "70607      475114.69           4.0            4.0  \n",
       "70608      157498.73           7.0            7.0  \n",
       "\n",
       "[70609 rows x 9 columns]"
      ]
     },
     "execution_count": 35,
     "metadata": {},
     "output_type": "execute_result"
    }
   ],
   "source": [
    "demo = demo.rename(columns={'clnt_tenure_yr': 'tenure_year', 'clnt_tenure_mnth': 'tenure_month', 'clnt_age':'client_age', 'gendr':'gender','bal':'total_balance'})\n",
    "demo"
   ]
  },
  {
   "cell_type": "code",
   "execution_count": 36,
   "id": "0ccdd750",
   "metadata": {},
   "outputs": [
    {
     "data": {
      "text/plain": [
       "array(['U', 'M', 'F', nan, 'X'], dtype=object)"
      ]
     },
     "execution_count": 36,
     "metadata": {},
     "output_type": "execute_result"
    }
   ],
   "source": [
    "demo['gender'].unique()\n",
    "\n",
    "# make a dict"
   ]
  },
  {
   "cell_type": "code",
   "execution_count": 37,
   "id": "49288f0c",
   "metadata": {},
   "outputs": [
    {
     "name": "stdout",
     "output_type": "stream",
     "text": [
      "\n",
      "DataFrame after cleaning 'gender' column:\n",
      "       client_id  tenure_year  tenure_month  client_age       gender  \\\n",
      "0         836976          6.0          73.0        60.5  undisclosed   \n",
      "1        2304905          7.0          94.0        58.0  undisclosed   \n",
      "2        1439522          5.0          64.0        32.0  undisclosed   \n",
      "3        1562045         16.0         198.0        49.0            M   \n",
      "4        5126305         12.0         145.0        33.0            F   \n",
      "...          ...          ...           ...         ...          ...   \n",
      "70604    7993686          4.0          56.0        38.5  undisclosed   \n",
      "70605    8981690         12.0         148.0        31.0            M   \n",
      "70606     333913         16.0         198.0        61.5            F   \n",
      "70607    1573142         21.0         255.0        68.0            M   \n",
      "70608    5602139         21.0         254.0        59.5            F   \n",
      "\n",
      "       num_accts  total_balance  calls_6_mnth  logons_6_mnth  \n",
      "0            2.0       45105.30           6.0            9.0  \n",
      "1            2.0      110860.30           6.0            9.0  \n",
      "2            2.0       52467.79           6.0            9.0  \n",
      "3            2.0       67454.65           3.0            6.0  \n",
      "4            2.0      103671.75           0.0            3.0  \n",
      "...          ...            ...           ...            ...  \n",
      "70604        3.0     1411062.68           5.0            5.0  \n",
      "70605        2.0      101867.07           6.0            6.0  \n",
      "70606        2.0       40745.00           3.0            3.0  \n",
      "70607        3.0      475114.69           4.0            4.0  \n",
      "70608        3.0      157498.73           7.0            7.0  \n",
      "\n",
      "[70609 rows x 9 columns]\n"
     ]
    }
   ],
   "source": [
    "demo['gender'] = demo['gender'].replace(['U', 'X', 'nan','unknown'], 'undisclosed')\n",
    "demo['gender'] = demo['gender'].fillna('undisclosed')\n",
    "\n",
    "# Display the cleaned DataFrame\n",
    "print(\"\\nDataFrame after cleaning 'gender' column:\")\n",
    "print(demo)\n"
   ]
  },
  {
   "cell_type": "code",
   "execution_count": 38,
   "id": "406719a0",
   "metadata": {},
   "outputs": [
    {
     "name": "stdout",
     "output_type": "stream",
     "text": [
      "\n",
      "Count of 'F' in 'gender' column: 22746\n",
      "Count of 'M' in 'gender' column: 23724\n"
     ]
    }
   ],
   "source": [
    "gender_counts = demo['gender'].value_counts()\n",
    "\n",
    "# Get counts for 'F' and 'M'\n",
    "count_f = gender_counts.get('F', 0)\n",
    "count_m = gender_counts.get('M', 0)\n",
    "\n",
    "# Display the counts\n",
    "print(f\"\\nCount of 'F' in 'gender' column: {count_f}\")\n",
    "print(f\"Count of 'M' in 'gender' column: {count_m}\")"
   ]
  },
  {
   "cell_type": "code",
   "execution_count": 39,
   "id": "d4cbfa8a",
   "metadata": {},
   "outputs": [
    {
     "name": "stdout",
     "output_type": "stream",
     "text": [
      "\n",
      "Count of 'undisclosed' in 'gender' column: 24139\n"
     ]
    }
   ],
   "source": [
    "gender_counts = demo['gender'].value_counts()\n",
    "count_unknown = gender_counts.get('undisclosed', 0)\n",
    "\n",
    "# Alternatively, count using boolean indexing\n",
    "count_unknown_alternative = (demo['gender'] == 'undisclosed').sum()\n",
    "\n",
    "# Display the counts\n",
    "print(f\"\\nCount of 'undisclosed' in 'gender' column: {count_unknown}\")"
   ]
  },
  {
   "cell_type": "code",
   "execution_count": 40,
   "id": "edb331c3",
   "metadata": {},
   "outputs": [
    {
     "name": "stdout",
     "output_type": "stream",
     "text": [
      "\n",
      "DataFrame after rounding 'client_age':\n",
      "   client_age\n",
      "0          60\n",
      "1          58\n",
      "2          32\n",
      "3          49\n",
      "4          33\n"
     ]
    }
   ],
   "source": [
    "demo['client_age'] = demo['client_age'].round(0).fillna(-1).astype(int)\n",
    "\n",
    "# Display the DataFrame after rounding\n",
    "print(\"\\nDataFrame after rounding 'client_age':\")\n",
    "print(demo[['client_age']].head())"
   ]
  },
  {
   "cell_type": "code",
   "execution_count": 41,
   "id": "65c92cb8",
   "metadata": {},
   "outputs": [
    {
     "name": "stdout",
     "output_type": "stream",
     "text": [
      "\n",
      "DataFrame after cleaning 'tenure_year', 'tenure_month', 'calls_6_mnth', 'logons_6_mnth', 'num_accts', 'total_balance' :\n",
      "       client_id  tenure_year  tenure_month  client_age       gender  \\\n",
      "0         836976            6            73          60  undisclosed   \n",
      "1        2304905            7            94          58  undisclosed   \n",
      "2        1439522            5            64          32  undisclosed   \n",
      "3        1562045           16           198          49            M   \n",
      "4        5126305           12           145          33            F   \n",
      "...          ...          ...           ...         ...          ...   \n",
      "70604    7993686            4            56          38  undisclosed   \n",
      "70605    8981690           12           148          31            M   \n",
      "70606     333913           16           198          62            F   \n",
      "70607    1573142           21           255          68            M   \n",
      "70608    5602139           21           254          60            F   \n",
      "\n",
      "       num_accts  total_balance  calls_6_mnth  logons_6_mnth  \n",
      "0              2          45105             6              9  \n",
      "1              2         110860             6              9  \n",
      "2              2          52468             6              9  \n",
      "3              2          67455             3              6  \n",
      "4              2         103672             0              3  \n",
      "...          ...            ...           ...            ...  \n",
      "70604          3        1411063             5              5  \n",
      "70605          2         101867             6              6  \n",
      "70606          2          40745             3              3  \n",
      "70607          3         475115             4              4  \n",
      "70608          3         157499             7              7  \n",
      "\n",
      "[70609 rows x 9 columns]\n"
     ]
    }
   ],
   "source": [
    "# Fill NaN values before converting to int\n",
    "cols_to_clean = ['tenure_year', 'tenure_month', 'calls_6_mnth', 'logons_6_mnth', 'num_accts', 'total_balance']\n",
    "demo[cols_to_clean] = demo[cols_to_clean].round(0).fillna(-1).astype(int)\n",
    "\n",
    "print(\"\\nDataFrame after cleaning 'tenure_year', 'tenure_month', 'calls_6_mnth', 'logons_6_mnth', 'num_accts', 'total_balance' :\")\n",
    "print(demo)"
   ]
  },
  {
   "cell_type": "code",
   "execution_count": 42,
   "id": "8210f00b",
   "metadata": {},
   "outputs": [
    {
     "data": {
      "text/plain": [
       "client_id        70609\n",
       "tenure_year         55\n",
       "tenure_month       483\n",
       "client_age          83\n",
       "gender               3\n",
       "num_accts            9\n",
       "total_balance    56924\n",
       "calls_6_mnth         9\n",
       "logons_6_mnth       10\n",
       "dtype: int64"
      ]
     },
     "execution_count": 42,
     "metadata": {},
     "output_type": "execute_result"
    }
   ],
   "source": [
    "demo.nunique()"
   ]
  },
  {
   "cell_type": "code",
   "execution_count": 43,
   "id": "2bed8b4c",
   "metadata": {},
   "outputs": [
    {
     "data": {
      "text/html": [
       "<div>\n",
       "<style scoped>\n",
       "    .dataframe tbody tr th:only-of-type {\n",
       "        vertical-align: middle;\n",
       "    }\n",
       "\n",
       "    .dataframe tbody tr th {\n",
       "        vertical-align: top;\n",
       "    }\n",
       "\n",
       "    .dataframe thead th {\n",
       "        text-align: right;\n",
       "    }\n",
       "</style>\n",
       "<table border=\"1\" class=\"dataframe\">\n",
       "  <thead>\n",
       "    <tr style=\"text-align: right;\">\n",
       "      <th></th>\n",
       "      <th>client_id</th>\n",
       "      <th>tenure_year</th>\n",
       "      <th>tenure_month</th>\n",
       "      <th>client_age</th>\n",
       "      <th>gender</th>\n",
       "      <th>num_accts</th>\n",
       "      <th>total_balance</th>\n",
       "      <th>calls_6_mnth</th>\n",
       "      <th>logons_6_mnth</th>\n",
       "    </tr>\n",
       "  </thead>\n",
       "  <tbody>\n",
       "    <tr>\n",
       "      <th>0</th>\n",
       "      <td>836976</td>\n",
       "      <td>6</td>\n",
       "      <td>73</td>\n",
       "      <td>60</td>\n",
       "      <td>undisclosed</td>\n",
       "      <td>2</td>\n",
       "      <td>45105</td>\n",
       "      <td>6</td>\n",
       "      <td>9</td>\n",
       "    </tr>\n",
       "    <tr>\n",
       "      <th>1</th>\n",
       "      <td>2304905</td>\n",
       "      <td>7</td>\n",
       "      <td>94</td>\n",
       "      <td>58</td>\n",
       "      <td>undisclosed</td>\n",
       "      <td>2</td>\n",
       "      <td>110860</td>\n",
       "      <td>6</td>\n",
       "      <td>9</td>\n",
       "    </tr>\n",
       "    <tr>\n",
       "      <th>2</th>\n",
       "      <td>1439522</td>\n",
       "      <td>5</td>\n",
       "      <td>64</td>\n",
       "      <td>32</td>\n",
       "      <td>undisclosed</td>\n",
       "      <td>2</td>\n",
       "      <td>52468</td>\n",
       "      <td>6</td>\n",
       "      <td>9</td>\n",
       "    </tr>\n",
       "    <tr>\n",
       "      <th>3</th>\n",
       "      <td>1562045</td>\n",
       "      <td>16</td>\n",
       "      <td>198</td>\n",
       "      <td>49</td>\n",
       "      <td>M</td>\n",
       "      <td>2</td>\n",
       "      <td>67455</td>\n",
       "      <td>3</td>\n",
       "      <td>6</td>\n",
       "    </tr>\n",
       "    <tr>\n",
       "      <th>4</th>\n",
       "      <td>5126305</td>\n",
       "      <td>12</td>\n",
       "      <td>145</td>\n",
       "      <td>33</td>\n",
       "      <td>F</td>\n",
       "      <td>2</td>\n",
       "      <td>103672</td>\n",
       "      <td>0</td>\n",
       "      <td>3</td>\n",
       "    </tr>\n",
       "  </tbody>\n",
       "</table>\n",
       "</div>"
      ],
      "text/plain": [
       "   client_id  tenure_year  tenure_month  client_age       gender  num_accts  \\\n",
       "0     836976            6            73          60  undisclosed          2   \n",
       "1    2304905            7            94          58  undisclosed          2   \n",
       "2    1439522            5            64          32  undisclosed          2   \n",
       "3    1562045           16           198          49            M          2   \n",
       "4    5126305           12           145          33            F          2   \n",
       "\n",
       "   total_balance  calls_6_mnth  logons_6_mnth  \n",
       "0          45105             6              9  \n",
       "1         110860             6              9  \n",
       "2          52468             6              9  \n",
       "3          67455             3              6  \n",
       "4         103672             0              3  "
      ]
     },
     "execution_count": 43,
     "metadata": {},
     "output_type": "execute_result"
    }
   ],
   "source": [
    "demo.head()"
   ]
  },
  {
   "cell_type": "code",
   "execution_count": 44,
   "id": "7960e8cc",
   "metadata": {},
   "outputs": [
    {
     "name": "stdout",
     "output_type": "stream",
     "text": [
      "DataFrame with Age Categories:\n",
      "       client_id  tenure_year  tenure_month  client_age       gender  \\\n",
      "0         836976            6            73          60  undisclosed   \n",
      "1        2304905            7            94          58  undisclosed   \n",
      "2        1439522            5            64          32  undisclosed   \n",
      "3        1562045           16           198          49            M   \n",
      "4        5126305           12           145          33            F   \n",
      "...          ...          ...           ...         ...          ...   \n",
      "70604    7993686            4            56          38  undisclosed   \n",
      "70605    8981690           12           148          31            M   \n",
      "70606     333913           16           198          62            F   \n",
      "70607    1573142           21           255          68            M   \n",
      "70608    5602139           21           254          60            F   \n",
      "\n",
      "       num_accts  total_balance  calls_6_mnth  logons_6_mnth age_category  \n",
      "0              2          45105             6              9       senior  \n",
      "1              2         110860             6              9       senior  \n",
      "2              2          52468             6              9       mature  \n",
      "3              2          67455             3              6       mature  \n",
      "4              2         103672             0              3       mature  \n",
      "...          ...            ...           ...            ...          ...  \n",
      "70604          3        1411063             5              5       mature  \n",
      "70605          2         101867             6              6       mature  \n",
      "70606          2          40745             3              3       senior  \n",
      "70607          3         475115             4              4       senior  \n",
      "70608          3         157499             7              7       senior  \n",
      "\n",
      "[70609 rows x 10 columns]\n",
      "\n",
      "Counts of each Age Category:\n",
      "age_category\n",
      "senior    32523\n",
      "mature    25601\n",
      "young     12470\n",
      "Name: count, dtype: int64\n"
     ]
    }
   ],
   "source": [
    "bins = [0, 30, 50, 100]  # Note that zero is included to cover ages under 18, if any\n",
    "labels = ['young', 'mature', 'senior']\n",
    "\n",
    "# Categorize ages into bins using cut\n",
    "demo['age_category'] = pd.cut(demo['client_age'], bins=bins, labels=labels, right=False)\n",
    "\n",
    "# Count the number of clients in each age category\n",
    "age_category_counts = demo['age_category'].value_counts()\n",
    "\n",
    "# Display the categorized ages and their counts\n",
    "print(\"DataFrame with Age Categories:\")\n",
    "print(demo)\n",
    "\n",
    "print(\"\\nCounts of each Age Category:\")\n",
    "print(age_category_counts)"
   ]
  },
  {
   "cell_type": "code",
   "execution_count": 45,
   "id": "a6a1d524",
   "metadata": {},
   "outputs": [
    {
     "name": "stdout",
     "output_type": "stream",
     "text": [
      "Median Age: 47.0\n"
     ]
    }
   ],
   "source": [
    "median_age = demo['client_age'].median()\n",
    "\n",
    "# Display the median age\n",
    "print(\"Median Age:\", median_age)"
   ]
  },
  {
   "cell_type": "code",
   "execution_count": 46,
   "id": "c7a8af7d",
   "metadata": {},
   "outputs": [
    {
     "name": "stdout",
     "output_type": "stream",
     "text": [
      "Mean Age: 46.43572349133963\n"
     ]
    }
   ],
   "source": [
    "mean_age = demo['client_age'].mean()\n",
    "\n",
    "# Display the mean age\n",
    "print(\"Mean Age:\", mean_age)"
   ]
  },
  {
   "cell_type": "code",
   "execution_count": 47,
   "id": "7744cb59",
   "metadata": {},
   "outputs": [
    {
     "name": "stdout",
     "output_type": "stream",
     "text": [
      "Gender most common among clients older than 45: F\n"
     ]
    }
   ],
   "source": [
    "older_clients = demo[demo['client_age'] > 45]\n",
    "\n",
    "# Count the number of occurrences of each gender in the filtered DataFrame\n",
    "gender_counts = older_clients['gender'].value_counts()\n",
    "\n",
    "# Display the most common gender among clients older than 45\n",
    "if not gender_counts.empty:\n",
    "    most_common_gender = gender_counts.idxmax()\n",
    "    print(\"Gender most common among clients older than 45:\", most_common_gender)\n",
    "else:\n",
    "    print(\"No clients older than 45.\")"
   ]
  },
  {
   "cell_type": "code",
   "execution_count": 48,
   "id": "99114f86",
   "metadata": {},
   "outputs": [
    {
     "name": "stdout",
     "output_type": "stream",
     "text": [
      "Female clients over age 45:\n",
      "       client_id  tenure_year  tenure_month  client_age gender  num_accts  \\\n",
      "9        8198645           15           189          54      F          2   \n",
      "38        313570           18           223          48      F          2   \n",
      "40       3753796           25           305          66      F          2   \n",
      "41       6647577           23           286          68      F          3   \n",
      "42       6341488           23           285          65      F          2   \n",
      "...          ...          ...           ...         ...    ...        ...   \n",
      "70595    1196936           15           184          46      F          2   \n",
      "70597    4194308           10           130          56      F          2   \n",
      "70601    2690705           15           181          53      F          2   \n",
      "70606     333913           16           198          62      F          2   \n",
      "70608    5602139           21           254          60      F          3   \n",
      "\n",
      "       total_balance  calls_6_mnth  logons_6_mnth age_category  \n",
      "9             382304             6              9       senior  \n",
      "38             75124             2              5       mature  \n",
      "40            214662             6              9       senior  \n",
      "41             86006             2              5       senior  \n",
      "42            116534             5              8       senior  \n",
      "...              ...           ...            ...          ...  \n",
      "70595         482000             1              1       mature  \n",
      "70597          57840             4              4       senior  \n",
      "70601          24911             3              3       senior  \n",
      "70606          40745             3              3       senior  \n",
      "70608         157499             7              7       senior  \n",
      "\n",
      "[13987 rows x 10 columns]\n",
      "\n",
      "Total tenure years of female clients over age 45:\n",
      "15.831343390290984\n"
     ]
    }
   ],
   "source": [
    "female_clients_over_45 = demo[(demo['gender'] == 'F') & (demo['client_age'] > 45)]\n",
    "\n",
    "# Sum tenure years for these filtered clients\n",
    "total_tenure_years = female_clients_over_45['tenure_year'].mean()\n",
    "\n",
    "# Display the results\n",
    "print(\"Female clients over age 45:\")\n",
    "print(female_clients_over_45)\n",
    "\n",
    "print(\"\\nTotal tenure years of female clients over age 45:\")\n",
    "print(total_tenure_years)"
   ]
  },
  {
   "cell_type": "code",
   "execution_count": 49,
   "id": "854fd129",
   "metadata": {},
   "outputs": [
    {
     "name": "stdout",
     "output_type": "stream",
     "text": [
      "Mean of 'calls_6_mnth' for women over 45: 3.1884607135196967\n"
     ]
    }
   ],
   "source": [
    "women_over_45 = demo[(demo['gender'] == 'F') & (demo['client_age'] > 45)]\n",
    "\n",
    "# Calculate the mean of 'calls_6_mnth' for this subset\n",
    "mean_calls = women_over_45['calls_6_mnth'].mean()\n",
    "\n",
    "# Display the mean\n",
    "print(\"Mean of 'calls_6_mnth' for women over 45:\", mean_calls)"
   ]
  },
  {
   "cell_type": "code",
   "execution_count": 50,
   "id": "3ba1f021",
   "metadata": {},
   "outputs": [
    {
     "name": "stdout",
     "output_type": "stream",
     "text": [
      "\n",
      "Mean logons in 6 months for women over age 45: 5.458997640666333\n"
     ]
    }
   ],
   "source": [
    "women_over_45 = demo[(demo['gender'] == 'F') & (demo['client_age'] > 45)]\n",
    "\n",
    "# Calculate the mean of 'logons_6_mnth' for this subgroup\n",
    "if not women_over_45.empty:\n",
    "    mean_logons = women_over_45['logons_6_mnth'].mean()\n",
    "    print(\"\\nMean logons in 6 months for women over age 45:\", mean_logons)\n",
    "else:\n",
    "    print(\"\\nNo women over age 45 in the dataset.\")"
   ]
  },
  {
   "cell_type": "code",
   "execution_count": 51,
   "id": "dfb8b7da",
   "metadata": {},
   "outputs": [
    {
     "data": {
      "text/html": [
       "<div>\n",
       "<style scoped>\n",
       "    .dataframe tbody tr th:only-of-type {\n",
       "        vertical-align: middle;\n",
       "    }\n",
       "\n",
       "    .dataframe tbody tr th {\n",
       "        vertical-align: top;\n",
       "    }\n",
       "\n",
       "    .dataframe thead th {\n",
       "        text-align: right;\n",
       "    }\n",
       "</style>\n",
       "<table border=\"1\" class=\"dataframe\">\n",
       "  <thead>\n",
       "    <tr style=\"text-align: right;\">\n",
       "      <th></th>\n",
       "      <th>client_id</th>\n",
       "      <th>Variation</th>\n",
       "    </tr>\n",
       "  </thead>\n",
       "  <tbody>\n",
       "    <tr>\n",
       "      <th>0</th>\n",
       "      <td>9988021</td>\n",
       "      <td>Test</td>\n",
       "    </tr>\n",
       "    <tr>\n",
       "      <th>1</th>\n",
       "      <td>8320017</td>\n",
       "      <td>Test</td>\n",
       "    </tr>\n",
       "    <tr>\n",
       "      <th>2</th>\n",
       "      <td>4033851</td>\n",
       "      <td>Control</td>\n",
       "    </tr>\n",
       "    <tr>\n",
       "      <th>3</th>\n",
       "      <td>1982004</td>\n",
       "      <td>Test</td>\n",
       "    </tr>\n",
       "    <tr>\n",
       "      <th>4</th>\n",
       "      <td>9294070</td>\n",
       "      <td>Control</td>\n",
       "    </tr>\n",
       "    <tr>\n",
       "      <th>...</th>\n",
       "      <td>...</td>\n",
       "      <td>...</td>\n",
       "    </tr>\n",
       "    <tr>\n",
       "      <th>70604</th>\n",
       "      <td>2443347</td>\n",
       "      <td>NaN</td>\n",
       "    </tr>\n",
       "    <tr>\n",
       "      <th>70605</th>\n",
       "      <td>8788427</td>\n",
       "      <td>NaN</td>\n",
       "    </tr>\n",
       "    <tr>\n",
       "      <th>70606</th>\n",
       "      <td>266828</td>\n",
       "      <td>NaN</td>\n",
       "    </tr>\n",
       "    <tr>\n",
       "      <th>70607</th>\n",
       "      <td>1266421</td>\n",
       "      <td>NaN</td>\n",
       "    </tr>\n",
       "    <tr>\n",
       "      <th>70608</th>\n",
       "      <td>9895983</td>\n",
       "      <td>NaN</td>\n",
       "    </tr>\n",
       "  </tbody>\n",
       "</table>\n",
       "<p>70609 rows × 2 columns</p>\n",
       "</div>"
      ],
      "text/plain": [
       "       client_id Variation\n",
       "0        9988021      Test\n",
       "1        8320017      Test\n",
       "2        4033851   Control\n",
       "3        1982004      Test\n",
       "4        9294070   Control\n",
       "...          ...       ...\n",
       "70604    2443347       NaN\n",
       "70605    8788427       NaN\n",
       "70606     266828       NaN\n",
       "70607    1266421       NaN\n",
       "70608    9895983       NaN\n",
       "\n",
       "[70609 rows x 2 columns]"
      ]
     },
     "execution_count": 51,
     "metadata": {},
     "output_type": "execute_result"
    }
   ],
   "source": [
    "exp_clients = pd.read_csv('df_final_experiment_clients.txt')\n",
    "exp_clients"
   ]
  },
  {
   "cell_type": "code",
   "execution_count": 52,
   "id": "25ea9c50",
   "metadata": {},
   "outputs": [
    {
     "name": "stdout",
     "output_type": "stream",
     "text": [
      "Grouped Logons:\n",
      "        gender age_category  logons_6_mnth\n",
      "0            F        young          11773\n",
      "1            F       mature          41206\n",
      "2            F       senior          67275\n",
      "3            M        young          16164\n",
      "4            M       mature          50418\n",
      "5            M       senior          73049\n",
      "6  undisclosed        young          40469\n",
      "7  undisclosed       mature          45848\n",
      "8  undisclosed       senior          46775\n",
      "\n",
      "Group with Most Online Logons:\n",
      "gender                M\n",
      "age_category     senior\n",
      "logons_6_mnth     73049\n",
      "Name: 5, dtype: object\n"
     ]
    },
    {
     "name": "stderr",
     "output_type": "stream",
     "text": [
      "C:\\Users\\User\\AppData\\Local\\Temp\\ipykernel_9736\\946842725.py:6: FutureWarning: The default of observed=False is deprecated and will be changed to True in a future version of pandas. Pass observed=False to retain current behavior or observed=True to adopt the future default and silence this warning.\n",
      "  grouped_logons = demo.groupby(['gender', 'age_category'])['logons_6_mnth'].sum().reset_index()\n"
     ]
    }
   ],
   "source": [
    "bins = [0, 30, 50, 100]\n",
    "labels = ['young', 'mature', 'senior']\n",
    "demo['age_category'] = pd.cut(demo['client_age'], bins=bins, labels=labels, right=False)\n",
    "\n",
    "# Group by 'gender' and 'age_category' and sum the 'logons_6_mnth'\n",
    "grouped_logons = demo.groupby(['gender', 'age_category'])['logons_6_mnth'].sum().reset_index()\n",
    "\n",
    "# Find the group with the most logons\n",
    "most_online_group = grouped_logons.loc[grouped_logons['logons_6_mnth'].idxmax()]\n",
    "\n",
    "# Display results\n",
    "print(\"Grouped Logons:\")\n",
    "print(grouped_logons)\n",
    "\n",
    "print(\"\\nGroup with Most Online Logons:\")\n",
    "print(most_online_group)"
   ]
  },
  {
   "cell_type": "code",
   "execution_count": 53,
   "id": "743dcb11",
   "metadata": {},
   "outputs": [
    {
     "name": "stdout",
     "output_type": "stream",
     "text": [
      "\n",
      "DataFrame after replacing -1 with 1 in 'logons_6_mnth':\n",
      "       client_id  tenure_year  tenure_month  client_age       gender  \\\n",
      "0         836976            6            73          60  undisclosed   \n",
      "1        2304905            7            94          58  undisclosed   \n",
      "2        1439522            5            64          32  undisclosed   \n",
      "3        1562045           16           198          49            M   \n",
      "4        5126305           12           145          33            F   \n",
      "...          ...          ...           ...         ...          ...   \n",
      "70604    7993686            4            56          38  undisclosed   \n",
      "70605    8981690           12           148          31            M   \n",
      "70606     333913           16           198          62            F   \n",
      "70607    1573142           21           255          68            M   \n",
      "70608    5602139           21           254          60            F   \n",
      "\n",
      "       num_accts  total_balance  calls_6_mnth  logons_6_mnth age_category  \n",
      "0              2          45105             6              9       senior  \n",
      "1              2         110860             6              9       senior  \n",
      "2              2          52468             6              9       mature  \n",
      "3              2          67455             3              6       mature  \n",
      "4              2         103672             0              3       mature  \n",
      "...          ...            ...           ...            ...          ...  \n",
      "70604          3        1411063             5              5       mature  \n",
      "70605          2         101867             6              6       mature  \n",
      "70606          2          40745             3              3       senior  \n",
      "70607          3         475115             4              4       senior  \n",
      "70608          3         157499             7              7       senior  \n",
      "\n",
      "[70609 rows x 10 columns]\n"
     ]
    }
   ],
   "source": [
    "# Replace -1 with 1 in the 'logons_6_mnth' column\n",
    "demo['logons_6_mnth'] = demo['logons_6_mnth'].replace(-1, 1)\n",
    "\n",
    "\n",
    "print(\"\\nDataFrame after replacing -1 with 1 in 'logons_6_mnth':\")\n",
    "print(demo)"
   ]
  },
  {
   "cell_type": "code",
   "execution_count": 70,
   "id": "4cdf3759",
   "metadata": {},
   "outputs": [
    {
     "name": "stderr",
     "output_type": "stream",
     "text": [
      "C:\\Users\\User\\AppData\\Local\\Temp\\ipykernel_9736\\1377369437.py:5: FutureWarning: The default of observed=False is deprecated and will be changed to True in a future version of pandas. Pass observed=False to retain current behavior or observed=True to adopt the future default and silence this warning.\n",
      "  demo_grouped = demo.groupby(['gender', 'age_category'])['logons_6_mnth'].sum().reset_index()\n"
     ]
    },
    {
     "data": {
      "image/png": "[encoded data removed]",
      "text/plain": [
       "<Figure size 1000x600 with 2 Axes>"
      ]
     },
     "metadata": {},
     "output_type": "display_data"
    }
   ],
   "source": [
    "import seaborn as sns\n",
    "import matplotlib.pyplot as plt\n",
    "\n",
    "# Group the demo DataFrame by 'gender' and 'age_category' and sum 'logons_6_mnth'\n",
    "demo_grouped = demo.groupby(['gender', 'age_category'])['logons_6_mnth'].sum().reset_index()\n",
    "\n",
    "# Pivot the DataFrame to get the proper format for a heatmap\n",
    "pivot_table = demo_grouped.pivot(index='gender', columns='age_category', values='logons_6_mnth')\n",
    "\n",
    "# Create the heatmap\n",
    "plt.figure(figsize=(10, 6))\n",
    "sns.heatmap(pivot_table, annot=True, fmt='d', cmap='YlGnBu', cbar_kws={'label': 'Total Logons'})\n",
    "plt.title('Heatmap of Logons in 6 Months by Gender and Age Category')\n",
    "plt.xlabel('Age Category')\n",
    "plt.ylabel('Gender')\n",
    "plt.show()\n"
   ]
  },
  {
   "cell_type": "code",
   "execution_count": 55,
   "id": "40fca9d6",
   "metadata": {},
   "outputs": [
    {
     "data": {
      "image/png": "[encoded data removed]",
      "text/plain": [
       "<Figure size 800x600 with 2 Axes>"
      ]
     },
     "metadata": {},
     "output_type": "display_data"
    }
   ],
   "source": [
    "import seaborn as sns\n",
    "import matplotlib.pyplot as plt\n",
    "\n",
    "# Calculate total logons for each gender (already done above, reused here)\n",
    "# gender_totals = grouped_logons.groupby('gender')['logons_6_mnth'].sum()\n",
    "\n",
    "# Calculate percentage of logons for each age category within each gender\n",
    "grouped_logons['percentage_of_gender'] = grouped_logons.apply(\n",
    "\tlambda row: row['logons_6_mnth'] / gender_totals[row['gender']] * 100, axis=1\n",
    ")\n",
    "\n",
    "# Create a pivot table for the heatmap\n",
    "pivot_table = grouped_logons.pivot(index='gender', columns='age_category', values='percentage_of_gender')\n",
    "\n",
    "# Plot the heatmap\n",
    "plt.figure(figsize=(8, 6))\n",
    "sns.heatmap(pivot_table, annot=True, fmt=\".2f\", cmap='YlGnBu', cbar_kws={'label': 'Percentage of Gender'})\n",
    "plt.title('Percentage of Logons by Gender and Age Category')\n",
    "plt.xlabel('Age Category')\n",
    "plt.ylabel('Gender')\n",
    "plt.tight_layout()\n",
    "plt.show()"
   ]
  },
  {
   "cell_type": "code",
   "execution_count": 56,
   "id": "f2572483",
   "metadata": {},
   "outputs": [
    {
     "name": "stdout",
     "output_type": "stream",
     "text": [
      "Index(['client_id', 'variation'], dtype='object')\n"
     ]
    }
   ],
   "source": [
    "exp_clients.columns = [col.lower() for col in exp_clients.columns]\n",
    "print(exp_clients.columns)"
   ]
  },
  {
   "cell_type": "code",
   "execution_count": 57,
   "id": "94dcfcdf",
   "metadata": {},
   "outputs": [
    {
     "name": "stdout",
     "output_type": "stream",
     "text": [
      "\n",
      "DataFrame after replacing NaN values in 'variation':\n",
      "       client_id variation\n",
      "0        9988021      Test\n",
      "1        8320017      Test\n",
      "2        4033851   Control\n",
      "3        1982004      Test\n",
      "4        9294070   Control\n",
      "...          ...       ...\n",
      "70604    2443347   unknown\n",
      "70605    8788427   unknown\n",
      "70606     266828   unknown\n",
      "70607    1266421   unknown\n",
      "70608    9895983   unknown\n",
      "\n",
      "[70609 rows x 2 columns]\n"
     ]
    }
   ],
   "source": [
    "exp_clients['variation'] = exp_clients['variation'].fillna('unknown')\n",
    "\n",
    "# Display the DataFrame after cleaning\n",
    "print(\"\\nDataFrame after replacing NaN values in 'variation':\")\n",
    "print(exp_clients)"
   ]
  },
  {
   "cell_type": "code",
   "execution_count": 58,
   "id": "c56ba848",
   "metadata": {},
   "outputs": [
    {
     "name": "stdout",
     "output_type": "stream",
     "text": [
      "\n",
      "Counts of unique values in 'variation' column:\n",
      "variation\n",
      "Test       26968\n",
      "Control    23532\n",
      "unknown    20109\n",
      "Name: count, dtype: int64\n"
     ]
    }
   ],
   "source": [
    "variation_counts = exp_clients['variation'].value_counts()\n",
    "\n",
    "# Display the counts of unique values\n",
    "print(\"\\nCounts of unique values in 'variation' column:\")\n",
    "print(variation_counts)"
   ]
  },
  {
   "cell_type": "code",
   "execution_count": 59,
   "id": "cad91302",
   "metadata": {},
   "outputs": [
    {
     "data": {
      "text/plain": [
       "0"
      ]
     },
     "execution_count": 59,
     "metadata": {},
     "output_type": "execute_result"
    }
   ],
   "source": [
    "exp_clients_duplicates = exp_clients.duplicated()\n",
    "exp_clients_duplicates.sum()"
   ]
  },
  {
   "cell_type": "code",
   "execution_count": 60,
   "id": "6371b328",
   "metadata": {},
   "outputs": [
    {
     "name": "stdout",
     "output_type": "stream",
     "text": [
      "client_id    0\n",
      "variation    0\n",
      "dtype: int64\n"
     ]
    }
   ],
   "source": [
    "print(exp_clients.isnull().sum())"
   ]
  },
  {
   "cell_type": "code",
   "execution_count": 61,
   "id": "312dd66d",
   "metadata": {},
   "outputs": [
    {
     "data": {
      "text/plain": [
       "array(['Test', 'Control', 'unknown'], dtype=object)"
      ]
     },
     "execution_count": 61,
     "metadata": {},
     "output_type": "execute_result"
    }
   ],
   "source": [
    "exp_clients['variation'].unique()"
   ]
  },
  {
   "cell_type": "code",
   "execution_count": 62,
   "id": "d078662f",
   "metadata": {},
   "outputs": [
    {
     "data": {
      "text/plain": [
       "client_id    70609\n",
       "variation        3\n",
       "dtype: int64"
      ]
     },
     "execution_count": 62,
     "metadata": {},
     "output_type": "execute_result"
    }
   ],
   "source": [
    "exp_clients.nunique()"
   ]
  },
  {
   "cell_type": "code",
   "execution_count": null,
   "id": "b1b8132f",
   "metadata": {},
   "outputs": [],
   "source": []
  }
 ],
 "metadata": {
  "kernelspec": {
   "display_name": "base",
   "language": "python",
   "name": "python3"
  },
  "language_info": {
   "codemirror_mode": {
    "name": "ipython",
    "version": 3
   },
   "file_extension": ".py",
   "mimetype": "text/x-python",
   "name": "python",
   "nbconvert_exporter": "python",
   "pygments_lexer": "ipython3",
   "version": "3.12.7"
  }
 },
 "nbformat": 4,
 "nbformat_minor": 5
}
